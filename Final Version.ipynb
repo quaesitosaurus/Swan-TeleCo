{
 "cells": [
  {
   "cell_type": "markdown",
   "id": "7c5052f3-8a40-4c5c-b6b9-c107e17386e7",
   "metadata": {
    "tags": []
   },
   "source": [
    "<img src=\"https://github.com/SimonSaban/image/blob/9a8eadf72b7bd40c779bc825c4faf825bafa7b53/soar-logo.png?raw=true\" align=\"left\" style=\"display: inline-block; margin-left: 10px; height: 180px;\">\n",
    "<h1 style=\"display: inline-block; color: #163E67; margin-left: 80px;\">Swan Teleco - Classification Model for Customer Churn</h1>\n",
    "<h2 align= \"left\">&nbsp;&nbsp;&nbsp;&nbsp;&nbsp;&nbsp;&nbsp;&nbsp;&nbsp;&nbsp;&nbsp;&nbsp;&nbsp;By: Aniko, Oaiss, Rachel & Simon</h2>"
   ]
  },
  {
   "cell_type": "markdown",
   "id": "136a77aa-fcd6-4896-92bf-8c18b046dd72",
   "metadata": {
    "tags": []
   },
   "source": [
    "<h2 align= \"left\" style=\"color: #163E67\">Data Exploration & Cleaning</h2>"
   ]
  },
  {
   "cell_type": "markdown",
   "id": "83985add-e0aa-4ad2-b3ec-61b07659aad2",
   "metadata": {
    "jp-MarkdownHeadingCollapsed": true,
    "tags": []
   },
   "source": [
    "### Imports"
   ]
  },
  {
   "cell_type": "code",
   "execution_count": 582,
   "id": "70ea1040-973f-4d6d-b90f-2d48e4c1cc86",
   "metadata": {},
   "outputs": [],
   "source": [
    "# Big 4\n",
    "import numpy as np\n",
    "import seaborn as sns\n",
    "import matplotlib.pyplot as plt\n",
    "import pandas as pda\n",
    "\n",
    "# performance\n",
    "from sklearn import metrics\n",
    "from time import time\n",
    "\n",
    "# modeling libraries\n",
    "from sklearn.tree import DecisionTreeClassifier\n",
    "from sklearn.model_selection import train_test_split, cross_val_score, GridSearchCV\n",
    "from sklearn.metrics import confusion_matrix, accuracy_score\n",
    "from sklearn.linear_model import LogisticRegression\n",
    "\n",
    "# ensamble models\n",
    "from sklearn.ensemble import BaggingClassifier\n",
    "from sklearn.ensemble import RandomForestClassifier, ExtraTreesClassifier\n",
    "\n",
    "# Scaling \n",
    "from sklearn.preprocessing import RobustScaler\n"
   ]
  },
  {
   "cell_type": "markdown",
   "id": "5e84b573-d7a8-4244-bc2b-49ea5ec05a15",
   "metadata": {
    "jp-MarkdownHeadingCollapsed": true,
    "tags": []
   },
   "source": [
    "### Exploring"
   ]
  },
  {
   "cell_type": "code",
   "execution_count": 546,
   "id": "586823a7-5f69-4df9-8413-d7146ea5833b",
   "metadata": {},
   "outputs": [],
   "source": [
    "df = pd.read_excel('1 - Project Data.xlsx')"
   ]
  },
  {
   "cell_type": "code",
   "execution_count": 547,
   "id": "659492be-08d7-443d-b300-f5e2aa2b9b1b",
   "metadata": {
    "tags": []
   },
   "outputs": [
    {
     "data": {
      "text/plain": [
       "(7043, 31)"
      ]
     },
     "execution_count": 547,
     "metadata": {},
     "output_type": "execute_result"
    }
   ],
   "source": [
    "df.shape"
   ]
  },
  {
   "cell_type": "code",
   "execution_count": 548,
   "id": "50697ab5-4d11-4e9e-94a6-fc47fdac581e",
   "metadata": {},
   "outputs": [
    {
     "data": {
      "text/html": [
       "<div>\n",
       "<style scoped>\n",
       "    .dataframe tbody tr th:only-of-type {\n",
       "        vertical-align: middle;\n",
       "    }\n",
       "\n",
       "    .dataframe tbody tr th {\n",
       "        vertical-align: top;\n",
       "    }\n",
       "\n",
       "    .dataframe thead th {\n",
       "        text-align: right;\n",
       "    }\n",
       "</style>\n",
       "<table border=\"1\" class=\"dataframe\">\n",
       "  <thead>\n",
       "    <tr style=\"text-align: right;\">\n",
       "      <th></th>\n",
       "      <th>CustomerID</th>\n",
       "      <th>Count</th>\n",
       "      <th>Country</th>\n",
       "      <th>State</th>\n",
       "      <th>City</th>\n",
       "      <th>Zip Code</th>\n",
       "      <th>Lat Long</th>\n",
       "      <th>Latitude</th>\n",
       "      <th>Longitude</th>\n",
       "      <th>Gender</th>\n",
       "      <th>...</th>\n",
       "      <th>Streaming TV</th>\n",
       "      <th>Streaming Movies</th>\n",
       "      <th>Contract</th>\n",
       "      <th>Paperless Billing</th>\n",
       "      <th>Payment Method</th>\n",
       "      <th>Monthly Charges</th>\n",
       "      <th>Total Charges</th>\n",
       "      <th>Churn Label</th>\n",
       "      <th>Churn Value</th>\n",
       "      <th>Churn Reason</th>\n",
       "    </tr>\n",
       "  </thead>\n",
       "  <tbody>\n",
       "    <tr>\n",
       "      <th>0</th>\n",
       "      <td>3668-QPYBK</td>\n",
       "      <td>1</td>\n",
       "      <td>United States</td>\n",
       "      <td>California</td>\n",
       "      <td>Los Angeles</td>\n",
       "      <td>90003</td>\n",
       "      <td>33.964131, -118.272783</td>\n",
       "      <td>33.964131</td>\n",
       "      <td>-118.272783</td>\n",
       "      <td>Male</td>\n",
       "      <td>...</td>\n",
       "      <td>No</td>\n",
       "      <td>No</td>\n",
       "      <td>Month-to-month</td>\n",
       "      <td>Yes</td>\n",
       "      <td>Mailed check</td>\n",
       "      <td>53.85</td>\n",
       "      <td>108.15</td>\n",
       "      <td>Yes</td>\n",
       "      <td>1</td>\n",
       "      <td>Competitor made better offer</td>\n",
       "    </tr>\n",
       "    <tr>\n",
       "      <th>1</th>\n",
       "      <td>9237-HQITU</td>\n",
       "      <td>1</td>\n",
       "      <td>United States</td>\n",
       "      <td>California</td>\n",
       "      <td>Los Angeles</td>\n",
       "      <td>90005</td>\n",
       "      <td>34.059281, -118.30742</td>\n",
       "      <td>34.059281</td>\n",
       "      <td>-118.307420</td>\n",
       "      <td>Female</td>\n",
       "      <td>...</td>\n",
       "      <td>No</td>\n",
       "      <td>No</td>\n",
       "      <td>Month-to-month</td>\n",
       "      <td>Yes</td>\n",
       "      <td>Electronic check</td>\n",
       "      <td>70.70</td>\n",
       "      <td>151.65</td>\n",
       "      <td>Yes</td>\n",
       "      <td>1</td>\n",
       "      <td>Moved</td>\n",
       "    </tr>\n",
       "    <tr>\n",
       "      <th>2</th>\n",
       "      <td>9305-CDSKC</td>\n",
       "      <td>1</td>\n",
       "      <td>United States</td>\n",
       "      <td>California</td>\n",
       "      <td>Los Angeles</td>\n",
       "      <td>90006</td>\n",
       "      <td>34.048013, -118.293953</td>\n",
       "      <td>34.048013</td>\n",
       "      <td>-118.293953</td>\n",
       "      <td>Female</td>\n",
       "      <td>...</td>\n",
       "      <td>Yes</td>\n",
       "      <td>Yes</td>\n",
       "      <td>Month-to-month</td>\n",
       "      <td>Yes</td>\n",
       "      <td>Electronic check</td>\n",
       "      <td>99.65</td>\n",
       "      <td>820.5</td>\n",
       "      <td>Yes</td>\n",
       "      <td>1</td>\n",
       "      <td>Moved</td>\n",
       "    </tr>\n",
       "    <tr>\n",
       "      <th>3</th>\n",
       "      <td>7892-POOKP</td>\n",
       "      <td>1</td>\n",
       "      <td>United States</td>\n",
       "      <td>California</td>\n",
       "      <td>Los Angeles</td>\n",
       "      <td>90010</td>\n",
       "      <td>34.062125, -118.315709</td>\n",
       "      <td>34.062125</td>\n",
       "      <td>-118.315709</td>\n",
       "      <td>Female</td>\n",
       "      <td>...</td>\n",
       "      <td>Yes</td>\n",
       "      <td>Yes</td>\n",
       "      <td>Month-to-month</td>\n",
       "      <td>Yes</td>\n",
       "      <td>Electronic check</td>\n",
       "      <td>104.80</td>\n",
       "      <td>3046.05</td>\n",
       "      <td>Yes</td>\n",
       "      <td>1</td>\n",
       "      <td>Moved</td>\n",
       "    </tr>\n",
       "    <tr>\n",
       "      <th>4</th>\n",
       "      <td>0280-XJGEX</td>\n",
       "      <td>1</td>\n",
       "      <td>United States</td>\n",
       "      <td>California</td>\n",
       "      <td>Los Angeles</td>\n",
       "      <td>90015</td>\n",
       "      <td>34.039224, -118.266293</td>\n",
       "      <td>34.039224</td>\n",
       "      <td>-118.266293</td>\n",
       "      <td>Male</td>\n",
       "      <td>...</td>\n",
       "      <td>Yes</td>\n",
       "      <td>Yes</td>\n",
       "      <td>Month-to-month</td>\n",
       "      <td>Yes</td>\n",
       "      <td>Bank transfer (automatic)</td>\n",
       "      <td>103.70</td>\n",
       "      <td>5036.3</td>\n",
       "      <td>Yes</td>\n",
       "      <td>1</td>\n",
       "      <td>Competitor had better devices</td>\n",
       "    </tr>\n",
       "  </tbody>\n",
       "</table>\n",
       "<p>5 rows × 31 columns</p>\n",
       "</div>"
      ],
      "text/plain": [
       "   CustomerID  Count        Country       State         City  Zip Code  \\\n",
       "0  3668-QPYBK      1  United States  California  Los Angeles     90003   \n",
       "1  9237-HQITU      1  United States  California  Los Angeles     90005   \n",
       "2  9305-CDSKC      1  United States  California  Los Angeles     90006   \n",
       "3  7892-POOKP      1  United States  California  Los Angeles     90010   \n",
       "4  0280-XJGEX      1  United States  California  Los Angeles     90015   \n",
       "\n",
       "                 Lat Long   Latitude   Longitude  Gender  ... Streaming TV  \\\n",
       "0  33.964131, -118.272783  33.964131 -118.272783    Male  ...           No   \n",
       "1   34.059281, -118.30742  34.059281 -118.307420  Female  ...           No   \n",
       "2  34.048013, -118.293953  34.048013 -118.293953  Female  ...          Yes   \n",
       "3  34.062125, -118.315709  34.062125 -118.315709  Female  ...          Yes   \n",
       "4  34.039224, -118.266293  34.039224 -118.266293    Male  ...          Yes   \n",
       "\n",
       "  Streaming Movies        Contract  Paperless Billing  \\\n",
       "0               No  Month-to-month                Yes   \n",
       "1               No  Month-to-month                Yes   \n",
       "2              Yes  Month-to-month                Yes   \n",
       "3              Yes  Month-to-month                Yes   \n",
       "4              Yes  Month-to-month                Yes   \n",
       "\n",
       "              Payment Method Monthly Charges Total Charges Churn Label  \\\n",
       "0               Mailed check           53.85        108.15         Yes   \n",
       "1           Electronic check           70.70        151.65         Yes   \n",
       "2           Electronic check           99.65         820.5         Yes   \n",
       "3           Electronic check          104.80       3046.05         Yes   \n",
       "4  Bank transfer (automatic)          103.70        5036.3         Yes   \n",
       "\n",
       "  Churn Value                   Churn Reason  \n",
       "0           1   Competitor made better offer  \n",
       "1           1                          Moved  \n",
       "2           1                          Moved  \n",
       "3           1                          Moved  \n",
       "4           1  Competitor had better devices  \n",
       "\n",
       "[5 rows x 31 columns]"
      ]
     },
     "execution_count": 548,
     "metadata": {},
     "output_type": "execute_result"
    }
   ],
   "source": [
    "df.head()"
   ]
  },
  {
   "cell_type": "code",
   "execution_count": 549,
   "id": "e67b540a-972c-436d-bf8e-ab4bef9d176d",
   "metadata": {
    "tags": []
   },
   "outputs": [
    {
     "data": {
      "text/html": [
       "<div>\n",
       "<style scoped>\n",
       "    .dataframe tbody tr th:only-of-type {\n",
       "        vertical-align: middle;\n",
       "    }\n",
       "\n",
       "    .dataframe tbody tr th {\n",
       "        vertical-align: top;\n",
       "    }\n",
       "\n",
       "    .dataframe thead th {\n",
       "        text-align: right;\n",
       "    }\n",
       "</style>\n",
       "<table border=\"1\" class=\"dataframe\">\n",
       "  <thead>\n",
       "    <tr style=\"text-align: right;\">\n",
       "      <th></th>\n",
       "      <th>Count</th>\n",
       "      <th>Zip Code</th>\n",
       "      <th>Latitude</th>\n",
       "      <th>Longitude</th>\n",
       "      <th>Tenure Months</th>\n",
       "      <th>Monthly Charges</th>\n",
       "      <th>Churn Value</th>\n",
       "    </tr>\n",
       "  </thead>\n",
       "  <tbody>\n",
       "    <tr>\n",
       "      <th>count</th>\n",
       "      <td>7043.0</td>\n",
       "      <td>7043.000000</td>\n",
       "      <td>7043.000000</td>\n",
       "      <td>7043.000000</td>\n",
       "      <td>7043.000000</td>\n",
       "      <td>7043.000000</td>\n",
       "      <td>7043.000000</td>\n",
       "    </tr>\n",
       "    <tr>\n",
       "      <th>mean</th>\n",
       "      <td>1.0</td>\n",
       "      <td>93521.964646</td>\n",
       "      <td>36.282441</td>\n",
       "      <td>-119.798880</td>\n",
       "      <td>32.371149</td>\n",
       "      <td>64.761692</td>\n",
       "      <td>0.265370</td>\n",
       "    </tr>\n",
       "    <tr>\n",
       "      <th>std</th>\n",
       "      <td>0.0</td>\n",
       "      <td>1865.794555</td>\n",
       "      <td>2.455723</td>\n",
       "      <td>2.157889</td>\n",
       "      <td>24.559481</td>\n",
       "      <td>30.090047</td>\n",
       "      <td>0.441561</td>\n",
       "    </tr>\n",
       "    <tr>\n",
       "      <th>min</th>\n",
       "      <td>1.0</td>\n",
       "      <td>90001.000000</td>\n",
       "      <td>32.555828</td>\n",
       "      <td>-124.301372</td>\n",
       "      <td>0.000000</td>\n",
       "      <td>18.250000</td>\n",
       "      <td>0.000000</td>\n",
       "    </tr>\n",
       "    <tr>\n",
       "      <th>25%</th>\n",
       "      <td>1.0</td>\n",
       "      <td>92102.000000</td>\n",
       "      <td>34.030915</td>\n",
       "      <td>-121.815412</td>\n",
       "      <td>9.000000</td>\n",
       "      <td>35.500000</td>\n",
       "      <td>0.000000</td>\n",
       "    </tr>\n",
       "    <tr>\n",
       "      <th>50%</th>\n",
       "      <td>1.0</td>\n",
       "      <td>93552.000000</td>\n",
       "      <td>36.391777</td>\n",
       "      <td>-119.730885</td>\n",
       "      <td>29.000000</td>\n",
       "      <td>70.350000</td>\n",
       "      <td>0.000000</td>\n",
       "    </tr>\n",
       "    <tr>\n",
       "      <th>75%</th>\n",
       "      <td>1.0</td>\n",
       "      <td>95351.000000</td>\n",
       "      <td>38.224869</td>\n",
       "      <td>-118.043237</td>\n",
       "      <td>55.000000</td>\n",
       "      <td>89.850000</td>\n",
       "      <td>1.000000</td>\n",
       "    </tr>\n",
       "    <tr>\n",
       "      <th>max</th>\n",
       "      <td>1.0</td>\n",
       "      <td>96161.000000</td>\n",
       "      <td>41.962127</td>\n",
       "      <td>-114.192901</td>\n",
       "      <td>72.000000</td>\n",
       "      <td>118.750000</td>\n",
       "      <td>1.000000</td>\n",
       "    </tr>\n",
       "  </tbody>\n",
       "</table>\n",
       "</div>"
      ],
      "text/plain": [
       "        Count      Zip Code     Latitude    Longitude  Tenure Months  \\\n",
       "count  7043.0   7043.000000  7043.000000  7043.000000    7043.000000   \n",
       "mean      1.0  93521.964646    36.282441  -119.798880      32.371149   \n",
       "std       0.0   1865.794555     2.455723     2.157889      24.559481   \n",
       "min       1.0  90001.000000    32.555828  -124.301372       0.000000   \n",
       "25%       1.0  92102.000000    34.030915  -121.815412       9.000000   \n",
       "50%       1.0  93552.000000    36.391777  -119.730885      29.000000   \n",
       "75%       1.0  95351.000000    38.224869  -118.043237      55.000000   \n",
       "max       1.0  96161.000000    41.962127  -114.192901      72.000000   \n",
       "\n",
       "       Monthly Charges  Churn Value  \n",
       "count      7043.000000  7043.000000  \n",
       "mean         64.761692     0.265370  \n",
       "std          30.090047     0.441561  \n",
       "min          18.250000     0.000000  \n",
       "25%          35.500000     0.000000  \n",
       "50%          70.350000     0.000000  \n",
       "75%          89.850000     1.000000  \n",
       "max         118.750000     1.000000  "
      ]
     },
     "execution_count": 549,
     "metadata": {},
     "output_type": "execute_result"
    }
   ],
   "source": [
    "df.describe()"
   ]
  },
  {
   "cell_type": "code",
   "execution_count": 550,
   "id": "0e46f48a-61b5-4f28-913d-6334781986af",
   "metadata": {
    "tags": []
   },
   "outputs": [
    {
     "name": "stdout",
     "output_type": "stream",
     "text": [
      "<class 'pandas.core.frame.DataFrame'>\n",
      "RangeIndex: 7043 entries, 0 to 7042\n",
      "Data columns (total 31 columns):\n",
      " #   Column             Non-Null Count  Dtype  \n",
      "---  ------             --------------  -----  \n",
      " 0   CustomerID         7043 non-null   object \n",
      " 1   Count              7043 non-null   int64  \n",
      " 2   Country            7043 non-null   object \n",
      " 3   State              7043 non-null   object \n",
      " 4   City               7043 non-null   object \n",
      " 5   Zip Code           7043 non-null   int64  \n",
      " 6   Lat Long           7043 non-null   object \n",
      " 7   Latitude           7043 non-null   float64\n",
      " 8   Longitude          7043 non-null   float64\n",
      " 9   Gender             7043 non-null   object \n",
      " 10  Senior Citizen     7043 non-null   object \n",
      " 11  Partner            7043 non-null   object \n",
      " 12  Dependents         7043 non-null   object \n",
      " 13  Tenure Months      7043 non-null   int64  \n",
      " 14  Phone Service      7043 non-null   object \n",
      " 15  Multiple Lines     7043 non-null   object \n",
      " 16  Internet Service   7043 non-null   object \n",
      " 17  Online Security    7043 non-null   object \n",
      " 18  Online Backup      7043 non-null   object \n",
      " 19  Device Protection  7043 non-null   object \n",
      " 20  Tech Support       7043 non-null   object \n",
      " 21  Streaming TV       7043 non-null   object \n",
      " 22  Streaming Movies   7043 non-null   object \n",
      " 23  Contract           7043 non-null   object \n",
      " 24  Paperless Billing  7043 non-null   object \n",
      " 25  Payment Method     7043 non-null   object \n",
      " 26  Monthly Charges    7043 non-null   float64\n",
      " 27  Total Charges      7043 non-null   object \n",
      " 28  Churn Label        7043 non-null   object \n",
      " 29  Churn Value        7043 non-null   int64  \n",
      " 30  Churn Reason       1869 non-null   object \n",
      "dtypes: float64(3), int64(4), object(24)\n",
      "memory usage: 1.7+ MB\n"
     ]
    }
   ],
   "source": [
    "df.info()"
   ]
  },
  {
   "cell_type": "markdown",
   "id": "bd842a4b-a980-4e72-a316-bb3caba08687",
   "metadata": {},
   "source": [
    "* It appears that most of the coulmns are of object data type so some converting will have to take place in order to run on sklLearn\n",
    "* Data seems to be complete for most coulmns, but we need to check nulls in Churn Reason column\n",
    "* Total Charges column for whichever reason is showing as an object despite containing numerical values"
   ]
  },
  {
   "cell_type": "code",
   "execution_count": 551,
   "id": "46ac4cc7-ab8b-46e9-9052-15518abbc7f2",
   "metadata": {
    "tags": []
   },
   "outputs": [
    {
     "data": {
      "text/html": [
       "<div>\n",
       "<style scoped>\n",
       "    .dataframe tbody tr th:only-of-type {\n",
       "        vertical-align: middle;\n",
       "    }\n",
       "\n",
       "    .dataframe tbody tr th {\n",
       "        vertical-align: top;\n",
       "    }\n",
       "\n",
       "    .dataframe thead th {\n",
       "        text-align: right;\n",
       "    }\n",
       "</style>\n",
       "<table border=\"1\" class=\"dataframe\">\n",
       "  <thead>\n",
       "    <tr style=\"text-align: right;\">\n",
       "      <th></th>\n",
       "      <th>Churn Reason</th>\n",
       "      <th>CustomerID</th>\n",
       "    </tr>\n",
       "    <tr>\n",
       "      <th>Churn Label</th>\n",
       "      <th></th>\n",
       "      <th></th>\n",
       "    </tr>\n",
       "  </thead>\n",
       "  <tbody>\n",
       "    <tr>\n",
       "      <th>No</th>\n",
       "      <td>0</td>\n",
       "      <td>5174</td>\n",
       "    </tr>\n",
       "    <tr>\n",
       "      <th>Yes</th>\n",
       "      <td>1869</td>\n",
       "      <td>1869</td>\n",
       "    </tr>\n",
       "  </tbody>\n",
       "</table>\n",
       "</div>"
      ],
      "text/plain": [
       "             Churn Reason  CustomerID\n",
       "Churn Label                          \n",
       "No                      0        5174\n",
       "Yes                  1869        1869"
      ]
     },
     "execution_count": 551,
     "metadata": {},
     "output_type": "execute_result"
    }
   ],
   "source": [
    "df.groupby('Churn Label')[['Churn Reason','CustomerID']].count() "
   ]
  },
  {
   "cell_type": "markdown",
   "id": "ddee9c2e-11f0-4297-92a3-64f90075692d",
   "metadata": {},
   "source": [
    "Nulls in Churn Reason column align with all customers who have not churned, so it makes perfect sense to have them"
   ]
  },
  {
   "cell_type": "markdown",
   "id": "538ea4ba-1351-43f5-8d3b-e614a477c290",
   "metadata": {
    "jp-MarkdownHeadingCollapsed": true,
    "tags": []
   },
   "source": [
    "### Cleaning"
   ]
  },
  {
   "cell_type": "code",
   "execution_count": 532,
   "id": "4c7197ba-b08d-46d1-871d-13a69ebb0dc7",
   "metadata": {
    "tags": []
   },
   "outputs": [],
   "source": [
    "# This was commented out as it returned an erro initially\n",
    "\n",
    "#df['Total Charges'] = df['Total Charges'].astype(float)"
   ]
  },
  {
   "cell_type": "markdown",
   "id": "8c31f735-3506-4541-8f6e-bacc88af2c0e",
   "metadata": {},
   "source": [
    "Trying to run the above code initially returned - ValueError: could not convert string to float: ' '\n",
    "\n",
    "This means we have some cells with a space - thanks Alex :)"
   ]
  },
  {
   "cell_type": "code",
   "execution_count": 534,
   "id": "1c7e649d-d8d9-432e-913f-a40265add00f",
   "metadata": {
    "tags": []
   },
   "outputs": [
    {
     "data": {
      "text/html": [
       "<div>\n",
       "<style scoped>\n",
       "    .dataframe tbody tr th:only-of-type {\n",
       "        vertical-align: middle;\n",
       "    }\n",
       "\n",
       "    .dataframe tbody tr th {\n",
       "        vertical-align: top;\n",
       "    }\n",
       "\n",
       "    .dataframe thead th {\n",
       "        text-align: right;\n",
       "    }\n",
       "</style>\n",
       "<table border=\"1\" class=\"dataframe\">\n",
       "  <thead>\n",
       "    <tr style=\"text-align: right;\">\n",
       "      <th></th>\n",
       "      <th>Total Charges</th>\n",
       "    </tr>\n",
       "  </thead>\n",
       "  <tbody>\n",
       "    <tr>\n",
       "      <th>2234</th>\n",
       "      <td></td>\n",
       "    </tr>\n",
       "    <tr>\n",
       "      <th>2438</th>\n",
       "      <td></td>\n",
       "    </tr>\n",
       "    <tr>\n",
       "      <th>2568</th>\n",
       "      <td></td>\n",
       "    </tr>\n",
       "    <tr>\n",
       "      <th>2667</th>\n",
       "      <td></td>\n",
       "    </tr>\n",
       "    <tr>\n",
       "      <th>2856</th>\n",
       "      <td></td>\n",
       "    </tr>\n",
       "    <tr>\n",
       "      <th>4331</th>\n",
       "      <td></td>\n",
       "    </tr>\n",
       "    <tr>\n",
       "      <th>4687</th>\n",
       "      <td></td>\n",
       "    </tr>\n",
       "    <tr>\n",
       "      <th>5104</th>\n",
       "      <td></td>\n",
       "    </tr>\n",
       "    <tr>\n",
       "      <th>5719</th>\n",
       "      <td></td>\n",
       "    </tr>\n",
       "    <tr>\n",
       "      <th>6772</th>\n",
       "      <td></td>\n",
       "    </tr>\n",
       "    <tr>\n",
       "      <th>6840</th>\n",
       "      <td></td>\n",
       "    </tr>\n",
       "  </tbody>\n",
       "</table>\n",
       "</div>"
      ],
      "text/plain": [
       "     Total Charges\n",
       "2234              \n",
       "2438              \n",
       "2568              \n",
       "2667              \n",
       "2856              \n",
       "4331              \n",
       "4687              \n",
       "5104              \n",
       "5719              \n",
       "6772              \n",
       "6840              "
      ]
     },
     "execution_count": 534,
     "metadata": {},
     "output_type": "execute_result"
    }
   ],
   "source": [
    "# find cells with space\n",
    "df[['Total Charges']][df['Total Charges'] == \" \"]"
   ]
  },
  {
   "cell_type": "code",
   "execution_count": 539,
   "id": "b897da55-0fcb-4100-804c-525f483ef667",
   "metadata": {},
   "outputs": [
    {
     "data": {
      "text/plain": [
       "dtype('float64')"
      ]
     },
     "execution_count": 539,
     "metadata": {},
     "output_type": "execute_result"
    }
   ],
   "source": [
    "# use regex to replace the white space with null\n",
    "df['Total Charges'].replace(r'^\\s*$', np.nan, regex=True, inplace = True)\n",
    "\n",
    "# convert Total Charges Column to float data type\n",
    "df['Total Charges'] = df['Total Charges'].astype(float)\n",
    "\n",
    "# check if it worked\n",
    "df['Total Charges'].dtype"
   ]
  },
  {
   "cell_type": "code",
   "execution_count": 540,
   "id": "d43b2d9d-eed5-4ca1-8f6a-d07ee9d82642",
   "metadata": {},
   "outputs": [],
   "source": [
    "# Replace nulls with median value of total charges\n",
    "df['Total Charges'] = df['Total Charges'].fillna(df['Total Charges'].median())"
   ]
  },
  {
   "cell_type": "code",
   "execution_count": 351,
   "id": "47b26239-3411-4e98-9a6e-f1511a310098",
   "metadata": {},
   "outputs": [
    {
     "data": {
      "text/plain": [
       "0"
      ]
     },
     "execution_count": 351,
     "metadata": {},
     "output_type": "execute_result"
    }
   ],
   "source": [
    "# just to be sure...\n",
    "df['Total Charges'].isnull().sum()"
   ]
  },
  {
   "cell_type": "markdown",
   "id": "0bb63bfc-e94b-4777-abda-62c0a87908e5",
   "metadata": {},
   "source": [
    "Since the customer is requesting to identify specific customers as potential churners we need to somehow keep the customer id in our model\n",
    "\n",
    "To do so we could set them as the index provided they're all unique"
   ]
  },
  {
   "cell_type": "code",
   "execution_count": 562,
   "id": "a8ea7ae9-a627-42db-9f6e-62b171065173",
   "metadata": {
    "tags": []
   },
   "outputs": [
    {
     "data": {
      "text/plain": [
       "7043"
      ]
     },
     "execution_count": 562,
     "metadata": {},
     "output_type": "execute_result"
    }
   ],
   "source": [
    "# check all customer id's are unique\n",
    "len(df['CustomerID'].unique())"
   ]
  },
  {
   "cell_type": "code",
   "execution_count": 563,
   "id": "b416e055-a37c-4d38-94a3-51427e2864bb",
   "metadata": {},
   "outputs": [],
   "source": [
    "df = df.set_index('CustomerID')"
   ]
  },
  {
   "cell_type": "code",
   "execution_count": 564,
   "id": "8d7fbb6e-99c5-4e22-b087-5504c86dc393",
   "metadata": {
    "tags": []
   },
   "outputs": [
    {
     "data": {
      "text/html": [
       "<div>\n",
       "<style scoped>\n",
       "    .dataframe tbody tr th:only-of-type {\n",
       "        vertical-align: middle;\n",
       "    }\n",
       "\n",
       "    .dataframe tbody tr th {\n",
       "        vertical-align: top;\n",
       "    }\n",
       "\n",
       "    .dataframe thead th {\n",
       "        text-align: right;\n",
       "    }\n",
       "</style>\n",
       "<table border=\"1\" class=\"dataframe\">\n",
       "  <thead>\n",
       "    <tr style=\"text-align: right;\">\n",
       "      <th></th>\n",
       "      <th>Count</th>\n",
       "      <th>Country</th>\n",
       "      <th>State</th>\n",
       "      <th>City</th>\n",
       "      <th>Zip Code</th>\n",
       "      <th>Lat Long</th>\n",
       "      <th>Latitude</th>\n",
       "      <th>Longitude</th>\n",
       "      <th>Gender</th>\n",
       "      <th>Senior Citizen</th>\n",
       "      <th>...</th>\n",
       "      <th>Streaming TV</th>\n",
       "      <th>Streaming Movies</th>\n",
       "      <th>Contract</th>\n",
       "      <th>Paperless Billing</th>\n",
       "      <th>Payment Method</th>\n",
       "      <th>Monthly Charges</th>\n",
       "      <th>Total Charges</th>\n",
       "      <th>Churn Label</th>\n",
       "      <th>Churn Value</th>\n",
       "      <th>Churn Reason</th>\n",
       "    </tr>\n",
       "    <tr>\n",
       "      <th>CustomerID</th>\n",
       "      <th></th>\n",
       "      <th></th>\n",
       "      <th></th>\n",
       "      <th></th>\n",
       "      <th></th>\n",
       "      <th></th>\n",
       "      <th></th>\n",
       "      <th></th>\n",
       "      <th></th>\n",
       "      <th></th>\n",
       "      <th></th>\n",
       "      <th></th>\n",
       "      <th></th>\n",
       "      <th></th>\n",
       "      <th></th>\n",
       "      <th></th>\n",
       "      <th></th>\n",
       "      <th></th>\n",
       "      <th></th>\n",
       "      <th></th>\n",
       "      <th></th>\n",
       "    </tr>\n",
       "  </thead>\n",
       "  <tbody>\n",
       "    <tr>\n",
       "      <th>3668-QPYBK</th>\n",
       "      <td>1</td>\n",
       "      <td>United States</td>\n",
       "      <td>California</td>\n",
       "      <td>Los Angeles</td>\n",
       "      <td>90003</td>\n",
       "      <td>33.964131, -118.272783</td>\n",
       "      <td>33.964131</td>\n",
       "      <td>-118.272783</td>\n",
       "      <td>Male</td>\n",
       "      <td>No</td>\n",
       "      <td>...</td>\n",
       "      <td>No</td>\n",
       "      <td>No</td>\n",
       "      <td>Month-to-month</td>\n",
       "      <td>Yes</td>\n",
       "      <td>Mailed check</td>\n",
       "      <td>53.85</td>\n",
       "      <td>108.15</td>\n",
       "      <td>Yes</td>\n",
       "      <td>1</td>\n",
       "      <td>Competitor made better offer</td>\n",
       "    </tr>\n",
       "    <tr>\n",
       "      <th>9237-HQITU</th>\n",
       "      <td>1</td>\n",
       "      <td>United States</td>\n",
       "      <td>California</td>\n",
       "      <td>Los Angeles</td>\n",
       "      <td>90005</td>\n",
       "      <td>34.059281, -118.30742</td>\n",
       "      <td>34.059281</td>\n",
       "      <td>-118.307420</td>\n",
       "      <td>Female</td>\n",
       "      <td>No</td>\n",
       "      <td>...</td>\n",
       "      <td>No</td>\n",
       "      <td>No</td>\n",
       "      <td>Month-to-month</td>\n",
       "      <td>Yes</td>\n",
       "      <td>Electronic check</td>\n",
       "      <td>70.70</td>\n",
       "      <td>151.65</td>\n",
       "      <td>Yes</td>\n",
       "      <td>1</td>\n",
       "      <td>Moved</td>\n",
       "    </tr>\n",
       "    <tr>\n",
       "      <th>9305-CDSKC</th>\n",
       "      <td>1</td>\n",
       "      <td>United States</td>\n",
       "      <td>California</td>\n",
       "      <td>Los Angeles</td>\n",
       "      <td>90006</td>\n",
       "      <td>34.048013, -118.293953</td>\n",
       "      <td>34.048013</td>\n",
       "      <td>-118.293953</td>\n",
       "      <td>Female</td>\n",
       "      <td>No</td>\n",
       "      <td>...</td>\n",
       "      <td>Yes</td>\n",
       "      <td>Yes</td>\n",
       "      <td>Month-to-month</td>\n",
       "      <td>Yes</td>\n",
       "      <td>Electronic check</td>\n",
       "      <td>99.65</td>\n",
       "      <td>820.5</td>\n",
       "      <td>Yes</td>\n",
       "      <td>1</td>\n",
       "      <td>Moved</td>\n",
       "    </tr>\n",
       "    <tr>\n",
       "      <th>7892-POOKP</th>\n",
       "      <td>1</td>\n",
       "      <td>United States</td>\n",
       "      <td>California</td>\n",
       "      <td>Los Angeles</td>\n",
       "      <td>90010</td>\n",
       "      <td>34.062125, -118.315709</td>\n",
       "      <td>34.062125</td>\n",
       "      <td>-118.315709</td>\n",
       "      <td>Female</td>\n",
       "      <td>No</td>\n",
       "      <td>...</td>\n",
       "      <td>Yes</td>\n",
       "      <td>Yes</td>\n",
       "      <td>Month-to-month</td>\n",
       "      <td>Yes</td>\n",
       "      <td>Electronic check</td>\n",
       "      <td>104.80</td>\n",
       "      <td>3046.05</td>\n",
       "      <td>Yes</td>\n",
       "      <td>1</td>\n",
       "      <td>Moved</td>\n",
       "    </tr>\n",
       "    <tr>\n",
       "      <th>0280-XJGEX</th>\n",
       "      <td>1</td>\n",
       "      <td>United States</td>\n",
       "      <td>California</td>\n",
       "      <td>Los Angeles</td>\n",
       "      <td>90015</td>\n",
       "      <td>34.039224, -118.266293</td>\n",
       "      <td>34.039224</td>\n",
       "      <td>-118.266293</td>\n",
       "      <td>Male</td>\n",
       "      <td>No</td>\n",
       "      <td>...</td>\n",
       "      <td>Yes</td>\n",
       "      <td>Yes</td>\n",
       "      <td>Month-to-month</td>\n",
       "      <td>Yes</td>\n",
       "      <td>Bank transfer (automatic)</td>\n",
       "      <td>103.70</td>\n",
       "      <td>5036.3</td>\n",
       "      <td>Yes</td>\n",
       "      <td>1</td>\n",
       "      <td>Competitor had better devices</td>\n",
       "    </tr>\n",
       "  </tbody>\n",
       "</table>\n",
       "<p>5 rows × 30 columns</p>\n",
       "</div>"
      ],
      "text/plain": [
       "            Count        Country       State         City  Zip Code  \\\n",
       "CustomerID                                                            \n",
       "3668-QPYBK      1  United States  California  Los Angeles     90003   \n",
       "9237-HQITU      1  United States  California  Los Angeles     90005   \n",
       "9305-CDSKC      1  United States  California  Los Angeles     90006   \n",
       "7892-POOKP      1  United States  California  Los Angeles     90010   \n",
       "0280-XJGEX      1  United States  California  Los Angeles     90015   \n",
       "\n",
       "                          Lat Long   Latitude   Longitude  Gender  \\\n",
       "CustomerID                                                          \n",
       "3668-QPYBK  33.964131, -118.272783  33.964131 -118.272783    Male   \n",
       "9237-HQITU   34.059281, -118.30742  34.059281 -118.307420  Female   \n",
       "9305-CDSKC  34.048013, -118.293953  34.048013 -118.293953  Female   \n",
       "7892-POOKP  34.062125, -118.315709  34.062125 -118.315709  Female   \n",
       "0280-XJGEX  34.039224, -118.266293  34.039224 -118.266293    Male   \n",
       "\n",
       "           Senior Citizen  ... Streaming TV Streaming Movies        Contract  \\\n",
       "CustomerID                 ...                                                 \n",
       "3668-QPYBK             No  ...           No               No  Month-to-month   \n",
       "9237-HQITU             No  ...           No               No  Month-to-month   \n",
       "9305-CDSKC             No  ...          Yes              Yes  Month-to-month   \n",
       "7892-POOKP             No  ...          Yes              Yes  Month-to-month   \n",
       "0280-XJGEX             No  ...          Yes              Yes  Month-to-month   \n",
       "\n",
       "           Paperless Billing             Payment Method Monthly Charges  \\\n",
       "CustomerID                                                                \n",
       "3668-QPYBK               Yes               Mailed check           53.85   \n",
       "9237-HQITU               Yes           Electronic check           70.70   \n",
       "9305-CDSKC               Yes           Electronic check           99.65   \n",
       "7892-POOKP               Yes           Electronic check          104.80   \n",
       "0280-XJGEX               Yes  Bank transfer (automatic)          103.70   \n",
       "\n",
       "           Total Charges Churn Label Churn Value  \\\n",
       "CustomerID                                         \n",
       "3668-QPYBK        108.15         Yes           1   \n",
       "9237-HQITU        151.65         Yes           1   \n",
       "9305-CDSKC         820.5         Yes           1   \n",
       "7892-POOKP       3046.05         Yes           1   \n",
       "0280-XJGEX        5036.3         Yes           1   \n",
       "\n",
       "                             Churn Reason  \n",
       "CustomerID                                 \n",
       "3668-QPYBK   Competitor made better offer  \n",
       "9237-HQITU                          Moved  \n",
       "9305-CDSKC                          Moved  \n",
       "7892-POOKP                          Moved  \n",
       "0280-XJGEX  Competitor had better devices  \n",
       "\n",
       "[5 rows x 30 columns]"
      ]
     },
     "execution_count": 564,
     "metadata": {},
     "output_type": "execute_result"
    }
   ],
   "source": [
    "df.head()"
   ]
  },
  {
   "cell_type": "markdown",
   "id": "f7ae4ba0-8ec1-49e0-8ec7-fda9378a1606",
   "metadata": {
    "jp-MarkdownHeadingCollapsed": true,
    "tags": []
   },
   "source": [
    "<h2 align= \"left\" style=\"color: #163E67\">Feature Engineering</h2>"
   ]
  },
  {
   "cell_type": "markdown",
   "id": "bef88aca-fe72-4606-b07a-b921080eb1f0",
   "metadata": {
    "tags": []
   },
   "source": [
    "### Feature Selection"
   ]
  },
  {
   "cell_type": "markdown",
   "id": "b5a4346c-fc27-41e2-ada1-537e781f55fc",
   "metadata": {},
   "source": [
    "Going through the columns in our data set we immediately identified some columns we could drop straight away:\n",
    "* Count (of ID's maybe? 1 for all rows)\n",
    "* Country (USA only)\n",
    "* State (California Only)\n",
    "* City (we have lat and long should we discover something to do with locality)\n",
    "* Zip Code (as above)\n",
    "* Lat Long (we have them in separate columns)\n",
    "* Churn Label (synonymous with Churn Value which will be our target)\n",
    "* Churn reason (if the model is meant to identify churners it would be pointless to indicate the ones who churned) \n",
    "\n",
    "This still leaves us with quite a few columns for the model. Our approach was to start with many and gradually strip them down based on results"
   ]
  },
  {
   "cell_type": "code",
   "execution_count": 475,
   "id": "6c13739e-482b-4202-b665-5a9fa55db965",
   "metadata": {},
   "outputs": [],
   "source": [
    "# our first model trained with all columns initially\n",
    "# through experimentation and importance results we gradually removed what we thought of as noise  \n",
    "# this selection idicates the final model\n",
    "\n",
    "\n",
    "feature_cols = [#'Latitude', \n",
    "                #'Longitude', \n",
    "                #'Gender', \n",
    "                #'Senior Citizen', \n",
    "                #'Partner', \n",
    "                'Dependents', \n",
    "                'Tenure Months', \n",
    "                #'Phone Service', \n",
    "                #'Multiple Lines', \n",
    "                'Internet Service', \n",
    "                'Online Security', \n",
    "                'Online Backup', \n",
    "                'Device Protection', \n",
    "                'Tech Support', \n",
    "                #'Streaming TV', \n",
    "                #'Streaming Movies', \n",
    "                'Contract', \n",
    "                #'Paperless Billing', \n",
    "                #'Payment Method', \n",
    "                'Monthly Charges', \n",
    "                #'Total Charges',\n",
    "                ]\n",
    "\n"
   ]
  },
  {
   "cell_type": "markdown",
   "id": "8b6f197e-a39e-4cd0-b377-226cddbb8d6d",
   "metadata": {
    "jp-MarkdownHeadingCollapsed": true,
    "tags": []
   },
   "source": [
    "### Train-Test-Split"
   ]
  },
  {
   "cell_type": "code",
   "execution_count": null,
   "id": "240fbef7-fc3f-4527-bb52-548115e9c2a7",
   "metadata": {},
   "outputs": [],
   "source": [
    "# for random forest\n",
    "X_train, X_test, y_train, y_test = train_test_split(df[feature_cols], \n",
    "                                                    df['Churn Value'], \n",
    "                                                    test_size = 0.3, \n",
    "                                                    random_state = 42)\n"
   ]
  },
  {
   "cell_type": "code",
   "execution_count": 456,
   "id": "430aa5c3-9b26-4133-a16f-116bcecd0f56",
   "metadata": {},
   "outputs": [
    {
     "data": {
      "text/html": [
       "<div>\n",
       "<style scoped>\n",
       "    .dataframe tbody tr th:only-of-type {\n",
       "        vertical-align: middle;\n",
       "    }\n",
       "\n",
       "    .dataframe tbody tr th {\n",
       "        vertical-align: top;\n",
       "    }\n",
       "\n",
       "    .dataframe thead th {\n",
       "        text-align: right;\n",
       "    }\n",
       "</style>\n",
       "<table border=\"1\" class=\"dataframe\">\n",
       "  <thead>\n",
       "    <tr style=\"text-align: right;\">\n",
       "      <th></th>\n",
       "      <th>Dependents</th>\n",
       "      <th>Tenure Months</th>\n",
       "      <th>Online Security</th>\n",
       "      <th>Online Backup</th>\n",
       "      <th>Contract</th>\n",
       "      <th>Monthly Charges</th>\n",
       "    </tr>\n",
       "    <tr>\n",
       "      <th>CustomerID</th>\n",
       "      <th></th>\n",
       "      <th></th>\n",
       "      <th></th>\n",
       "      <th></th>\n",
       "      <th></th>\n",
       "      <th></th>\n",
       "    </tr>\n",
       "  </thead>\n",
       "  <tbody>\n",
       "    <tr>\n",
       "      <th>9776-CLUJA</th>\n",
       "      <td>No</td>\n",
       "      <td>51</td>\n",
       "      <td>Yes</td>\n",
       "      <td>No</td>\n",
       "      <td>Month-to-month</td>\n",
       "      <td>77.50</td>\n",
       "    </tr>\n",
       "    <tr>\n",
       "      <th>3285-UCQVC</th>\n",
       "      <td>No</td>\n",
       "      <td>37</td>\n",
       "      <td>No</td>\n",
       "      <td>No</td>\n",
       "      <td>Month-to-month</td>\n",
       "      <td>28.60</td>\n",
       "    </tr>\n",
       "    <tr>\n",
       "      <th>2371-JUNGC</th>\n",
       "      <td>No</td>\n",
       "      <td>11</td>\n",
       "      <td>No internet service</td>\n",
       "      <td>No internet service</td>\n",
       "      <td>Month-to-month</td>\n",
       "      <td>20.25</td>\n",
       "    </tr>\n",
       "    <tr>\n",
       "      <th>1821-BUCWY</th>\n",
       "      <td>No</td>\n",
       "      <td>30</td>\n",
       "      <td>Yes</td>\n",
       "      <td>No</td>\n",
       "      <td>Two year</td>\n",
       "      <td>55.65</td>\n",
       "    </tr>\n",
       "    <tr>\n",
       "      <th>9337-SRRNI</th>\n",
       "      <td>Yes</td>\n",
       "      <td>66</td>\n",
       "      <td>No internet service</td>\n",
       "      <td>No internet service</td>\n",
       "      <td>Two year</td>\n",
       "      <td>25.30</td>\n",
       "    </tr>\n",
       "  </tbody>\n",
       "</table>\n",
       "</div>"
      ],
      "text/plain": [
       "           Dependents  Tenure Months      Online Security  \\\n",
       "CustomerID                                                  \n",
       "9776-CLUJA         No             51                  Yes   \n",
       "3285-UCQVC         No             37                   No   \n",
       "2371-JUNGC         No             11  No internet service   \n",
       "1821-BUCWY         No             30                  Yes   \n",
       "9337-SRRNI        Yes             66  No internet service   \n",
       "\n",
       "                  Online Backup        Contract  Monthly Charges  \n",
       "CustomerID                                                        \n",
       "9776-CLUJA                   No  Month-to-month            77.50  \n",
       "3285-UCQVC                   No  Month-to-month            28.60  \n",
       "2371-JUNGC  No internet service  Month-to-month            20.25  \n",
       "1821-BUCWY                   No        Two year            55.65  \n",
       "9337-SRRNI  No internet service        Two year            25.30  "
      ]
     },
     "execution_count": 456,
     "metadata": {},
     "output_type": "execute_result"
    }
   ],
   "source": [
    "# This is currently showing the final version of X_train\n",
    "X_train.head()"
   ]
  },
  {
   "cell_type": "code",
   "execution_count": 601,
   "id": "df3041f2-7434-4fd5-95ac-889a5984bace",
   "metadata": {
    "tags": []
   },
   "outputs": [],
   "source": [
    "# for logistic regression\n",
    "X_train_lr, X_test_lr, y_train_lr, y_test_lr = train_test_split(df[feature_cols], \n",
    "                                                    df['Churn Value'], \n",
    "                                                    test_size = 0.3, \n",
    "                                                    random_state = 42)"
   ]
  },
  {
   "cell_type": "code",
   "execution_count": 602,
   "id": "01678049-27aa-4e84-9fb9-1a5f45cb3a23",
   "metadata": {
    "tags": []
   },
   "outputs": [
    {
     "data": {
      "text/html": [
       "<div>\n",
       "<style scoped>\n",
       "    .dataframe tbody tr th:only-of-type {\n",
       "        vertical-align: middle;\n",
       "    }\n",
       "\n",
       "    .dataframe tbody tr th {\n",
       "        vertical-align: top;\n",
       "    }\n",
       "\n",
       "    .dataframe thead th {\n",
       "        text-align: right;\n",
       "    }\n",
       "</style>\n",
       "<table border=\"1\" class=\"dataframe\">\n",
       "  <thead>\n",
       "    <tr style=\"text-align: right;\">\n",
       "      <th></th>\n",
       "      <th>Dependents</th>\n",
       "      <th>Tenure Months</th>\n",
       "      <th>Internet Service</th>\n",
       "      <th>Online Security</th>\n",
       "      <th>Online Backup</th>\n",
       "      <th>Device Protection</th>\n",
       "      <th>Tech Support</th>\n",
       "      <th>Contract</th>\n",
       "      <th>Monthly Charges</th>\n",
       "    </tr>\n",
       "    <tr>\n",
       "      <th>CustomerID</th>\n",
       "      <th></th>\n",
       "      <th></th>\n",
       "      <th></th>\n",
       "      <th></th>\n",
       "      <th></th>\n",
       "      <th></th>\n",
       "      <th></th>\n",
       "      <th></th>\n",
       "      <th></th>\n",
       "    </tr>\n",
       "  </thead>\n",
       "  <tbody>\n",
       "    <tr>\n",
       "      <th>9776-CLUJA</th>\n",
       "      <td>No</td>\n",
       "      <td>51</td>\n",
       "      <td>Fiber optic</td>\n",
       "      <td>Yes</td>\n",
       "      <td>No</td>\n",
       "      <td>No</td>\n",
       "      <td>No</td>\n",
       "      <td>Month-to-month</td>\n",
       "      <td>77.50</td>\n",
       "    </tr>\n",
       "    <tr>\n",
       "      <th>3285-UCQVC</th>\n",
       "      <td>No</td>\n",
       "      <td>37</td>\n",
       "      <td>DSL</td>\n",
       "      <td>No</td>\n",
       "      <td>No</td>\n",
       "      <td>No</td>\n",
       "      <td>Yes</td>\n",
       "      <td>Month-to-month</td>\n",
       "      <td>28.60</td>\n",
       "    </tr>\n",
       "    <tr>\n",
       "      <th>2371-JUNGC</th>\n",
       "      <td>No</td>\n",
       "      <td>11</td>\n",
       "      <td>No</td>\n",
       "      <td>No internet service</td>\n",
       "      <td>No internet service</td>\n",
       "      <td>No internet service</td>\n",
       "      <td>No internet service</td>\n",
       "      <td>Month-to-month</td>\n",
       "      <td>20.25</td>\n",
       "    </tr>\n",
       "    <tr>\n",
       "      <th>1821-BUCWY</th>\n",
       "      <td>No</td>\n",
       "      <td>30</td>\n",
       "      <td>DSL</td>\n",
       "      <td>Yes</td>\n",
       "      <td>No</td>\n",
       "      <td>Yes</td>\n",
       "      <td>No</td>\n",
       "      <td>Two year</td>\n",
       "      <td>55.65</td>\n",
       "    </tr>\n",
       "    <tr>\n",
       "      <th>9337-SRRNI</th>\n",
       "      <td>Yes</td>\n",
       "      <td>66</td>\n",
       "      <td>No</td>\n",
       "      <td>No internet service</td>\n",
       "      <td>No internet service</td>\n",
       "      <td>No internet service</td>\n",
       "      <td>No internet service</td>\n",
       "      <td>Two year</td>\n",
       "      <td>25.30</td>\n",
       "    </tr>\n",
       "  </tbody>\n",
       "</table>\n",
       "</div>"
      ],
      "text/plain": [
       "           Dependents  Tenure Months Internet Service      Online Security  \\\n",
       "CustomerID                                                                   \n",
       "9776-CLUJA         No             51      Fiber optic                  Yes   \n",
       "3285-UCQVC         No             37              DSL                   No   \n",
       "2371-JUNGC         No             11               No  No internet service   \n",
       "1821-BUCWY         No             30              DSL                  Yes   \n",
       "9337-SRRNI        Yes             66               No  No internet service   \n",
       "\n",
       "                  Online Backup    Device Protection         Tech Support  \\\n",
       "CustomerID                                                                  \n",
       "9776-CLUJA                   No                   No                   No   \n",
       "3285-UCQVC                   No                   No                  Yes   \n",
       "2371-JUNGC  No internet service  No internet service  No internet service   \n",
       "1821-BUCWY                   No                  Yes                   No   \n",
       "9337-SRRNI  No internet service  No internet service  No internet service   \n",
       "\n",
       "                  Contract  Monthly Charges  \n",
       "CustomerID                                   \n",
       "9776-CLUJA  Month-to-month            77.50  \n",
       "3285-UCQVC  Month-to-month            28.60  \n",
       "2371-JUNGC  Month-to-month            20.25  \n",
       "1821-BUCWY        Two year            55.65  \n",
       "9337-SRRNI        Two year            25.30  "
      ]
     },
     "execution_count": 602,
     "metadata": {},
     "output_type": "execute_result"
    }
   ],
   "source": [
    "X_train_lr.head()"
   ]
  },
  {
   "cell_type": "markdown",
   "id": "1a14a8d0-8e5d-4635-beb9-f4f23a582a45",
   "metadata": {
    "jp-MarkdownHeadingCollapsed": true,
    "tags": []
   },
   "source": [
    "### Mapping"
   ]
  },
  {
   "cell_type": "markdown",
   "id": "5f12880d-311a-4cc9-8f51-189566ba6195",
   "metadata": {},
   "source": [
    "Columns with string values would need to be mapped for a random forest or OHE for logistic regression\n",
    "With regards to mapping we identified 3 types:\n",
    "* columns with either Yes or No\n",
    "* columns with Yes/ No/ No Internet Service\n",
    "* columns with unique values"
   ]
  },
  {
   "cell_type": "code",
   "execution_count": 476,
   "id": "771195c6-587f-4176-9e9e-a39b2219a90b",
   "metadata": {},
   "outputs": [],
   "source": [
    "# mapping list for columns with unique values\n",
    "# as explained before we gradually dropped columns, and they had to come off here too\n",
    "mapping_list = [\n",
    "        #{'col': 'Gender', \n",
    "         #'map' :{'Female':0, 'Male':1} \n",
    "        #},\n",
    "        {'col': 'Internet Service',\n",
    "         'map': { 'No':0, 'Fiber optic':1, 'DSL':2}\n",
    "        },\n",
    "        #{'col': 'Multiple Lines',\n",
    "         #'map' : {'No': 0, 'Yes':1, 'No phone service': 2}\n",
    "        #},\n",
    "        {'col': 'Contract',\n",
    "         'map': { 'Month-to-month': 0, 'One year': 1, 'Two year': 2}\n",
    "        },\n",
    "        #{'col': 'Payment Method',\n",
    "         #'map': { 'Bank transfer (automatic)' : 0, \n",
    "         #                   'Credit card (automatic)' : 1,\n",
    "         #                   'Electronic check': 2, \n",
    "         #                   'Mailed check': 3\n",
    "         #                  }\n",
    "       # }\n",
    "    ]\n",
    "\n",
    "# helper function for mapping of columns with Yes/ No\n",
    "def yes_no_map(df, column_list):\n",
    "    for col in column_list:\n",
    "        df[col] = df[col].map({'No':0, 'Yes':1})\n",
    "\n",
    "# helper function for mapping of columns with Yes/ No/ No Internet Service \n",
    "def yes_no_plus_map(df, column_list):\n",
    "    for col in column_list:\n",
    "        df[col] = df[col].map({'No':0, 'Yes':1, 'No internet service': 2})\n",
    "\n",
    "# helper function for mapping of coulmns with unique values        \n",
    "def unique_map(df, mapping_list):\n",
    "    for item in mapping_list:\n",
    "        df[item['col']] = df[item['col']].map(item['map'])\n",
    "\n",
    "    \n",
    "\n",
    "\n"
   ]
  },
  {
   "cell_type": "markdown",
   "id": "2b654125-396a-4c04-b497-4a8c5fd09c10",
   "metadata": {},
   "source": [
    "For logistic regression columns with 2 values (like Yes/ No) could still be mapped, but for columns with more values we will have to OHE"
   ]
  },
  {
   "cell_type": "code",
   "execution_count": 573,
   "id": "5e552b4c-343c-42a7-98d1-847bd1c37b07",
   "metadata": {
    "tags": []
   },
   "outputs": [],
   "source": [
    "# helper function for repetitive one hot encoding Which will get used for log-reg\n",
    "def OHE(df, column_list):\n",
    "    for col in column_list:\n",
    "        df = pd.get_dummies(data = df, columns = [col], prefix= col, drop_first=True, dtype = int)\n",
    "    return df\n",
    "\n",
    "\n",
    "# Feature engineering function for logistic regression\n",
    "def feature_engineering_log_reg(df):\n",
    "    #df['Gender'] = df.Gender.map({'Female':0, 'Male':1})\n",
    "    yes_no_map(df, ['Dependents'\n",
    "                    #'Senior Citizen', \n",
    "                    #'Partner',\n",
    "                    #'Phone Service', \n",
    "                    #'Paperless Billing'\n",
    "                   ])\n",
    "    df = OHE(df, ['Internet Service', \n",
    "                  'Online Security', \n",
    "                  'Online Backup', \n",
    "                  'Device Protection',\n",
    "                  'Tech Support', \n",
    "                  'Contract', \n",
    "                  #'Streaming TV', \n",
    "                  #'Streaming Movies'\n",
    "                 ])\n",
    "    return df"
   ]
  },
  {
   "cell_type": "code",
   "execution_count": null,
   "id": "c7efa73c-73a6-43e1-89b1-841e3c94e20a",
   "metadata": {},
   "outputs": [],
   "source": [
    "# Feature engineering function for random forests\n",
    "def feature_engineering(df):\n",
    "    yes_no_map(df, [#'Senior Citizen', \n",
    "                    #'Partner', \n",
    "                    'Dependents', \n",
    "                    #'Phone Service', \n",
    "                    #'Paperless Billing'\n",
    "                   ])\n",
    "    \n",
    "    yes_no_plus_map(df, ['Online Security', \n",
    "                         'Online Backup', \n",
    "                         'Device Protection', \n",
    "                         'Tech Support', \n",
    "                         #'Streaming TV', \n",
    "                         #'Streaming Movies'\n",
    "                        ])\n",
    "    \n",
    "    unique_map(df, mapping_list)\n",
    "    return df"
   ]
  },
  {
   "cell_type": "code",
   "execution_count": 477,
   "id": "cf7c9e3d-cbc8-4ef6-aec8-2c88452fd66d",
   "metadata": {},
   "outputs": [],
   "source": [
    "# one set for random forest\n",
    "X_train_fe = feature_engineering(X_train)"
   ]
  },
  {
   "cell_type": "code",
   "execution_count": 478,
   "id": "00d0452d-589b-4f07-94dc-aab36d18d7d5",
   "metadata": {},
   "outputs": [
    {
     "data": {
      "text/html": [
       "<div>\n",
       "<style scoped>\n",
       "    .dataframe tbody tr th:only-of-type {\n",
       "        vertical-align: middle;\n",
       "    }\n",
       "\n",
       "    .dataframe tbody tr th {\n",
       "        vertical-align: top;\n",
       "    }\n",
       "\n",
       "    .dataframe thead th {\n",
       "        text-align: right;\n",
       "    }\n",
       "</style>\n",
       "<table border=\"1\" class=\"dataframe\">\n",
       "  <thead>\n",
       "    <tr style=\"text-align: right;\">\n",
       "      <th></th>\n",
       "      <th>Dependents</th>\n",
       "      <th>Tenure Months</th>\n",
       "      <th>Internet Service</th>\n",
       "      <th>Online Security</th>\n",
       "      <th>Online Backup</th>\n",
       "      <th>Device Protection</th>\n",
       "      <th>Tech Support</th>\n",
       "      <th>Contract</th>\n",
       "      <th>Monthly Charges</th>\n",
       "    </tr>\n",
       "    <tr>\n",
       "      <th>CustomerID</th>\n",
       "      <th></th>\n",
       "      <th></th>\n",
       "      <th></th>\n",
       "      <th></th>\n",
       "      <th></th>\n",
       "      <th></th>\n",
       "      <th></th>\n",
       "      <th></th>\n",
       "      <th></th>\n",
       "    </tr>\n",
       "  </thead>\n",
       "  <tbody>\n",
       "    <tr>\n",
       "      <th>9776-CLUJA</th>\n",
       "      <td>0</td>\n",
       "      <td>51</td>\n",
       "      <td>1</td>\n",
       "      <td>1</td>\n",
       "      <td>0</td>\n",
       "      <td>0</td>\n",
       "      <td>0</td>\n",
       "      <td>0</td>\n",
       "      <td>77.50</td>\n",
       "    </tr>\n",
       "    <tr>\n",
       "      <th>3285-UCQVC</th>\n",
       "      <td>0</td>\n",
       "      <td>37</td>\n",
       "      <td>2</td>\n",
       "      <td>0</td>\n",
       "      <td>0</td>\n",
       "      <td>0</td>\n",
       "      <td>1</td>\n",
       "      <td>0</td>\n",
       "      <td>28.60</td>\n",
       "    </tr>\n",
       "    <tr>\n",
       "      <th>2371-JUNGC</th>\n",
       "      <td>0</td>\n",
       "      <td>11</td>\n",
       "      <td>0</td>\n",
       "      <td>2</td>\n",
       "      <td>2</td>\n",
       "      <td>2</td>\n",
       "      <td>2</td>\n",
       "      <td>0</td>\n",
       "      <td>20.25</td>\n",
       "    </tr>\n",
       "    <tr>\n",
       "      <th>1821-BUCWY</th>\n",
       "      <td>0</td>\n",
       "      <td>30</td>\n",
       "      <td>2</td>\n",
       "      <td>1</td>\n",
       "      <td>0</td>\n",
       "      <td>1</td>\n",
       "      <td>0</td>\n",
       "      <td>2</td>\n",
       "      <td>55.65</td>\n",
       "    </tr>\n",
       "    <tr>\n",
       "      <th>9337-SRRNI</th>\n",
       "      <td>1</td>\n",
       "      <td>66</td>\n",
       "      <td>0</td>\n",
       "      <td>2</td>\n",
       "      <td>2</td>\n",
       "      <td>2</td>\n",
       "      <td>2</td>\n",
       "      <td>2</td>\n",
       "      <td>25.30</td>\n",
       "    </tr>\n",
       "  </tbody>\n",
       "</table>\n",
       "</div>"
      ],
      "text/plain": [
       "            Dependents  Tenure Months  Internet Service  Online Security  \\\n",
       "CustomerID                                                                 \n",
       "9776-CLUJA           0             51                 1                1   \n",
       "3285-UCQVC           0             37                 2                0   \n",
       "2371-JUNGC           0             11                 0                2   \n",
       "1821-BUCWY           0             30                 2                1   \n",
       "9337-SRRNI           1             66                 0                2   \n",
       "\n",
       "            Online Backup  Device Protection  Tech Support  Contract  \\\n",
       "CustomerID                                                             \n",
       "9776-CLUJA              0                  0             0         0   \n",
       "3285-UCQVC              0                  0             1         0   \n",
       "2371-JUNGC              2                  2             2         0   \n",
       "1821-BUCWY              0                  1             0         2   \n",
       "9337-SRRNI              2                  2             2         2   \n",
       "\n",
       "            Monthly Charges  \n",
       "CustomerID                   \n",
       "9776-CLUJA            77.50  \n",
       "3285-UCQVC            28.60  \n",
       "2371-JUNGC            20.25  \n",
       "1821-BUCWY            55.65  \n",
       "9337-SRRNI            25.30  "
      ]
     },
     "execution_count": 478,
     "metadata": {},
     "output_type": "execute_result"
    }
   ],
   "source": [
    "X_train_fe.head()"
   ]
  },
  {
   "cell_type": "code",
   "execution_count": 578,
   "id": "7da00a1d-5348-451a-be7e-8b410c837f93",
   "metadata": {
    "tags": []
   },
   "outputs": [],
   "source": [
    "# another set for logistic regression\n",
    "X_train_fe_log_reg = feature_engineering_log_reg(X_train_lr)"
   ]
  },
  {
   "cell_type": "code",
   "execution_count": 579,
   "id": "53f14720-8eea-46e1-81ef-568f3d835055",
   "metadata": {
    "tags": []
   },
   "outputs": [
    {
     "data": {
      "text/html": [
       "<div>\n",
       "<style scoped>\n",
       "    .dataframe tbody tr th:only-of-type {\n",
       "        vertical-align: middle;\n",
       "    }\n",
       "\n",
       "    .dataframe tbody tr th {\n",
       "        vertical-align: top;\n",
       "    }\n",
       "\n",
       "    .dataframe thead th {\n",
       "        text-align: right;\n",
       "    }\n",
       "</style>\n",
       "<table border=\"1\" class=\"dataframe\">\n",
       "  <thead>\n",
       "    <tr style=\"text-align: right;\">\n",
       "      <th></th>\n",
       "      <th>Dependents</th>\n",
       "      <th>Tenure Months</th>\n",
       "      <th>Monthly Charges</th>\n",
       "      <th>Internet Service_Fiber optic</th>\n",
       "      <th>Internet Service_No</th>\n",
       "      <th>Online Security_No internet service</th>\n",
       "      <th>Online Security_Yes</th>\n",
       "      <th>Online Backup_No internet service</th>\n",
       "      <th>Online Backup_Yes</th>\n",
       "      <th>Device Protection_No internet service</th>\n",
       "      <th>Device Protection_Yes</th>\n",
       "      <th>Tech Support_No internet service</th>\n",
       "      <th>Tech Support_Yes</th>\n",
       "      <th>Contract_One year</th>\n",
       "      <th>Contract_Two year</th>\n",
       "    </tr>\n",
       "    <tr>\n",
       "      <th>CustomerID</th>\n",
       "      <th></th>\n",
       "      <th></th>\n",
       "      <th></th>\n",
       "      <th></th>\n",
       "      <th></th>\n",
       "      <th></th>\n",
       "      <th></th>\n",
       "      <th></th>\n",
       "      <th></th>\n",
       "      <th></th>\n",
       "      <th></th>\n",
       "      <th></th>\n",
       "      <th></th>\n",
       "      <th></th>\n",
       "      <th></th>\n",
       "    </tr>\n",
       "  </thead>\n",
       "  <tbody>\n",
       "    <tr>\n",
       "      <th>9776-CLUJA</th>\n",
       "      <td>0</td>\n",
       "      <td>51</td>\n",
       "      <td>77.50</td>\n",
       "      <td>1</td>\n",
       "      <td>0</td>\n",
       "      <td>0</td>\n",
       "      <td>1</td>\n",
       "      <td>0</td>\n",
       "      <td>0</td>\n",
       "      <td>0</td>\n",
       "      <td>0</td>\n",
       "      <td>0</td>\n",
       "      <td>0</td>\n",
       "      <td>0</td>\n",
       "      <td>0</td>\n",
       "    </tr>\n",
       "    <tr>\n",
       "      <th>3285-UCQVC</th>\n",
       "      <td>0</td>\n",
       "      <td>37</td>\n",
       "      <td>28.60</td>\n",
       "      <td>0</td>\n",
       "      <td>0</td>\n",
       "      <td>0</td>\n",
       "      <td>0</td>\n",
       "      <td>0</td>\n",
       "      <td>0</td>\n",
       "      <td>0</td>\n",
       "      <td>0</td>\n",
       "      <td>0</td>\n",
       "      <td>1</td>\n",
       "      <td>0</td>\n",
       "      <td>0</td>\n",
       "    </tr>\n",
       "    <tr>\n",
       "      <th>2371-JUNGC</th>\n",
       "      <td>0</td>\n",
       "      <td>11</td>\n",
       "      <td>20.25</td>\n",
       "      <td>0</td>\n",
       "      <td>1</td>\n",
       "      <td>1</td>\n",
       "      <td>0</td>\n",
       "      <td>1</td>\n",
       "      <td>0</td>\n",
       "      <td>1</td>\n",
       "      <td>0</td>\n",
       "      <td>1</td>\n",
       "      <td>0</td>\n",
       "      <td>0</td>\n",
       "      <td>0</td>\n",
       "    </tr>\n",
       "    <tr>\n",
       "      <th>1821-BUCWY</th>\n",
       "      <td>0</td>\n",
       "      <td>30</td>\n",
       "      <td>55.65</td>\n",
       "      <td>0</td>\n",
       "      <td>0</td>\n",
       "      <td>0</td>\n",
       "      <td>1</td>\n",
       "      <td>0</td>\n",
       "      <td>0</td>\n",
       "      <td>0</td>\n",
       "      <td>1</td>\n",
       "      <td>0</td>\n",
       "      <td>0</td>\n",
       "      <td>0</td>\n",
       "      <td>1</td>\n",
       "    </tr>\n",
       "    <tr>\n",
       "      <th>9337-SRRNI</th>\n",
       "      <td>1</td>\n",
       "      <td>66</td>\n",
       "      <td>25.30</td>\n",
       "      <td>0</td>\n",
       "      <td>1</td>\n",
       "      <td>1</td>\n",
       "      <td>0</td>\n",
       "      <td>1</td>\n",
       "      <td>0</td>\n",
       "      <td>1</td>\n",
       "      <td>0</td>\n",
       "      <td>1</td>\n",
       "      <td>0</td>\n",
       "      <td>0</td>\n",
       "      <td>1</td>\n",
       "    </tr>\n",
       "  </tbody>\n",
       "</table>\n",
       "</div>"
      ],
      "text/plain": [
       "            Dependents  Tenure Months  Monthly Charges  \\\n",
       "CustomerID                                               \n",
       "9776-CLUJA           0             51            77.50   \n",
       "3285-UCQVC           0             37            28.60   \n",
       "2371-JUNGC           0             11            20.25   \n",
       "1821-BUCWY           0             30            55.65   \n",
       "9337-SRRNI           1             66            25.30   \n",
       "\n",
       "            Internet Service_Fiber optic  Internet Service_No  \\\n",
       "CustomerID                                                      \n",
       "9776-CLUJA                             1                    0   \n",
       "3285-UCQVC                             0                    0   \n",
       "2371-JUNGC                             0                    1   \n",
       "1821-BUCWY                             0                    0   \n",
       "9337-SRRNI                             0                    1   \n",
       "\n",
       "            Online Security_No internet service  Online Security_Yes  \\\n",
       "CustomerID                                                             \n",
       "9776-CLUJA                                    0                    1   \n",
       "3285-UCQVC                                    0                    0   \n",
       "2371-JUNGC                                    1                    0   \n",
       "1821-BUCWY                                    0                    1   \n",
       "9337-SRRNI                                    1                    0   \n",
       "\n",
       "            Online Backup_No internet service  Online Backup_Yes  \\\n",
       "CustomerID                                                         \n",
       "9776-CLUJA                                  0                  0   \n",
       "3285-UCQVC                                  0                  0   \n",
       "2371-JUNGC                                  1                  0   \n",
       "1821-BUCWY                                  0                  0   \n",
       "9337-SRRNI                                  1                  0   \n",
       "\n",
       "            Device Protection_No internet service  Device Protection_Yes  \\\n",
       "CustomerID                                                                 \n",
       "9776-CLUJA                                      0                      0   \n",
       "3285-UCQVC                                      0                      0   \n",
       "2371-JUNGC                                      1                      0   \n",
       "1821-BUCWY                                      0                      1   \n",
       "9337-SRRNI                                      1                      0   \n",
       "\n",
       "            Tech Support_No internet service  Tech Support_Yes  \\\n",
       "CustomerID                                                       \n",
       "9776-CLUJA                                 0                 0   \n",
       "3285-UCQVC                                 0                 1   \n",
       "2371-JUNGC                                 1                 0   \n",
       "1821-BUCWY                                 0                 0   \n",
       "9337-SRRNI                                 1                 0   \n",
       "\n",
       "            Contract_One year  Contract_Two year  \n",
       "CustomerID                                        \n",
       "9776-CLUJA                  0                  0  \n",
       "3285-UCQVC                  0                  0  \n",
       "2371-JUNGC                  0                  0  \n",
       "1821-BUCWY                  0                  1  \n",
       "9337-SRRNI                  0                  1  "
      ]
     },
     "execution_count": 579,
     "metadata": {},
     "output_type": "execute_result"
    }
   ],
   "source": [
    "X_train_fe_log_reg.head()"
   ]
  },
  {
   "cell_type": "markdown",
   "id": "689edf4b-e603-4e5c-b24b-0d37bad02dea",
   "metadata": {},
   "source": [
    "We thought this might be helpful and useful with providing signals as to which columns we should drop"
   ]
  },
  {
   "cell_type": "code",
   "execution_count": 566,
   "id": "eb567a2d-0f87-4ee3-bebf-725157677ab7",
   "metadata": {},
   "outputs": [
    {
     "data": {
      "image/png": "[encoded data removed]",
      "text/plain": [
       "<Figure size 2000x2000 with 2 Axes>"
      ]
     },
     "metadata": {},
     "output_type": "display_data"
    }
   ],
   "source": [
    "## Making the plot big enough to see all the values clearly\n",
    "plt.figure(figsize = (20, 20))\n",
    "\n",
    "## Plotting a heat map of the correlations between columns\n",
    "sns.heatmap(X_train_fe.corr(numeric_only = True), \n",
    "            annot = True,\n",
    "            fmt = '.3',\n",
    "            cmap = sns.cubehelix_palette(start=-.2, rot=0, dark=0, light=.95, reverse=True, as_cmap=True),\n",
    "            mask = np.triu(X_train_fe.corr(numeric_only = True))\n",
    "            ).set_title(\"Correlation between columns in the Dataset\",weight='bold'\n",
    "            ).set_fontsize('18')\n",
    "            \n",
    "\n",
    "plt.show()"
   ]
  },
  {
   "cell_type": "markdown",
   "id": "2cf5a6e7-f708-4503-94c4-a3af96b73554",
   "metadata": {
    "jp-MarkdownHeadingCollapsed": true,
    "tags": []
   },
   "source": [
    "<h2 align= \"left\" style=\"color: #163E67\">Logistic Regression Model</h2>"
   ]
  },
  {
   "cell_type": "markdown",
   "id": "1cc5381b-dbb6-4ea0-b224-63114398a13f",
   "metadata": {
    "tags": []
   },
   "source": [
    "### Scaling for logistic regression"
   ]
  },
  {
   "cell_type": "code",
   "execution_count": 603,
   "id": "08030293-26d7-4fdb-91df-1ed714073de2",
   "metadata": {
    "tags": []
   },
   "outputs": [],
   "source": [
    "rob = RobustScaler()"
   ]
  },
  {
   "cell_type": "code",
   "execution_count": 604,
   "id": "cb392754-fc8d-4801-8a9f-343ecef73e73",
   "metadata": {
    "tags": []
   },
   "outputs": [
    {
     "data": {
      "text/html": [
       "<style>#sk-container-id-5 {color: black;background-color: white;}#sk-container-id-5 pre{padding: 0;}#sk-container-id-5 div.sk-toggleable {background-color: white;}#sk-container-id-5 label.sk-toggleable__label {cursor: pointer;display: block;width: 100%;margin-bottom: 0;padding: 0.3em;box-sizing: border-box;text-align: center;}#sk-container-id-5 label.sk-toggleable__label-arrow:before {content: \"▸\";float: left;margin-right: 0.25em;color: #696969;}#sk-container-id-5 label.sk-toggleable__label-arrow:hover:before {color: black;}#sk-container-id-5 div.sk-estimator:hover label.sk-toggleable__label-arrow:before {color: black;}#sk-container-id-5 div.sk-toggleable__content {max-height: 0;max-width: 0;overflow: hidden;text-align: left;background-color: #f0f8ff;}#sk-container-id-5 div.sk-toggleable__content pre {margin: 0.2em;color: black;border-radius: 0.25em;background-color: #f0f8ff;}#sk-container-id-5 input.sk-toggleable__control:checked~div.sk-toggleable__content {max-height: 200px;max-width: 100%;overflow: auto;}#sk-container-id-5 input.sk-toggleable__control:checked~label.sk-toggleable__label-arrow:before {content: \"▾\";}#sk-container-id-5 div.sk-estimator input.sk-toggleable__control:checked~label.sk-toggleable__label {background-color: #d4ebff;}#sk-container-id-5 div.sk-label input.sk-toggleable__control:checked~label.sk-toggleable__label {background-color: #d4ebff;}#sk-container-id-5 input.sk-hidden--visually {border: 0;clip: rect(1px 1px 1px 1px);clip: rect(1px, 1px, 1px, 1px);height: 1px;margin: -1px;overflow: hidden;padding: 0;position: absolute;width: 1px;}#sk-container-id-5 div.sk-estimator {font-family: monospace;background-color: #f0f8ff;border: 1px dotted black;border-radius: 0.25em;box-sizing: border-box;margin-bottom: 0.5em;}#sk-container-id-5 div.sk-estimator:hover {background-color: #d4ebff;}#sk-container-id-5 div.sk-parallel-item::after {content: \"\";width: 100%;border-bottom: 1px solid gray;flex-grow: 1;}#sk-container-id-5 div.sk-label:hover label.sk-toggleable__label {background-color: #d4ebff;}#sk-container-id-5 div.sk-serial::before {content: \"\";position: absolute;border-left: 1px solid gray;box-sizing: border-box;top: 0;bottom: 0;left: 50%;z-index: 0;}#sk-container-id-5 div.sk-serial {display: flex;flex-direction: column;align-items: center;background-color: white;padding-right: 0.2em;padding-left: 0.2em;position: relative;}#sk-container-id-5 div.sk-item {position: relative;z-index: 1;}#sk-container-id-5 div.sk-parallel {display: flex;align-items: stretch;justify-content: center;background-color: white;position: relative;}#sk-container-id-5 div.sk-item::before, #sk-container-id-5 div.sk-parallel-item::before {content: \"\";position: absolute;border-left: 1px solid gray;box-sizing: border-box;top: 0;bottom: 0;left: 50%;z-index: -1;}#sk-container-id-5 div.sk-parallel-item {display: flex;flex-direction: column;z-index: 1;position: relative;background-color: white;}#sk-container-id-5 div.sk-parallel-item:first-child::after {align-self: flex-end;width: 50%;}#sk-container-id-5 div.sk-parallel-item:last-child::after {align-self: flex-start;width: 50%;}#sk-container-id-5 div.sk-parallel-item:only-child::after {width: 0;}#sk-container-id-5 div.sk-dashed-wrapped {border: 1px dashed gray;margin: 0 0.4em 0.5em 0.4em;box-sizing: border-box;padding-bottom: 0.4em;background-color: white;}#sk-container-id-5 div.sk-label label {font-family: monospace;font-weight: bold;display: inline-block;line-height: 1.2em;}#sk-container-id-5 div.sk-label-container {text-align: center;}#sk-container-id-5 div.sk-container {/* jupyter's `normalize.less` sets `[hidden] { display: none; }` but bootstrap.min.css set `[hidden] { display: none !important; }` so we also need the `!important` here to be able to override the default hidden behavior on the sphinx rendered scikit-learn.org. See: https://github.com/scikit-learn/scikit-learn/issues/21755 */display: inline-block !important;position: relative;}#sk-container-id-5 div.sk-text-repr-fallback {display: none;}</style><div id=\"sk-container-id-5\" class=\"sk-top-container\"><div class=\"sk-text-repr-fallback\"><pre>RobustScaler()</pre><b>In a Jupyter environment, please rerun this cell to show the HTML representation or trust the notebook. <br />On GitHub, the HTML representation is unable to render, please try loading this page with nbviewer.org.</b></div><div class=\"sk-container\" hidden><div class=\"sk-item\"><div class=\"sk-estimator sk-toggleable\"><input class=\"sk-toggleable__control sk-hidden--visually\" id=\"sk-estimator-id-5\" type=\"checkbox\" checked><label for=\"sk-estimator-id-5\" class=\"sk-toggleable__label sk-toggleable__label-arrow\">RobustScaler</label><div class=\"sk-toggleable__content\"><pre>RobustScaler()</pre></div></div></div></div></div>"
      ],
      "text/plain": [
       "RobustScaler()"
      ]
     },
     "execution_count": 604,
     "metadata": {},
     "output_type": "execute_result"
    }
   ],
   "source": [
    "rob.fit(X_train_fe_log_reg)"
   ]
  },
  {
   "cell_type": "code",
   "execution_count": 605,
   "id": "46600b5c-9066-4c6a-8a1a-22e558bde504",
   "metadata": {
    "tags": []
   },
   "outputs": [],
   "source": [
    "X_train_scaled = pd.DataFrame(rob.transform(X_train_fe_log_reg))"
   ]
  },
  {
   "cell_type": "code",
   "execution_count": 606,
   "id": "9a62e49d-1e78-49c5-9a6b-5266f8a9d410",
   "metadata": {
    "tags": []
   },
   "outputs": [
    {
     "data": {
      "text/html": [
       "<div>\n",
       "<style scoped>\n",
       "    .dataframe tbody tr th:only-of-type {\n",
       "        vertical-align: middle;\n",
       "    }\n",
       "\n",
       "    .dataframe tbody tr th {\n",
       "        vertical-align: top;\n",
       "    }\n",
       "\n",
       "    .dataframe thead th {\n",
       "        text-align: right;\n",
       "    }\n",
       "</style>\n",
       "<table border=\"1\" class=\"dataframe\">\n",
       "  <thead>\n",
       "    <tr style=\"text-align: right;\">\n",
       "      <th></th>\n",
       "      <th>0</th>\n",
       "      <th>1</th>\n",
       "      <th>2</th>\n",
       "      <th>3</th>\n",
       "      <th>4</th>\n",
       "      <th>5</th>\n",
       "      <th>6</th>\n",
       "      <th>7</th>\n",
       "      <th>8</th>\n",
       "      <th>9</th>\n",
       "      <th>10</th>\n",
       "      <th>11</th>\n",
       "      <th>12</th>\n",
       "      <th>13</th>\n",
       "      <th>14</th>\n",
       "    </tr>\n",
       "  </thead>\n",
       "  <tbody>\n",
       "    <tr>\n",
       "      <th>0</th>\n",
       "      <td>0.0</td>\n",
       "      <td>0.468085</td>\n",
       "      <td>0.133213</td>\n",
       "      <td>1.0</td>\n",
       "      <td>0.0</td>\n",
       "      <td>0.0</td>\n",
       "      <td>1.0</td>\n",
       "      <td>0.0</td>\n",
       "      <td>0.0</td>\n",
       "      <td>0.0</td>\n",
       "      <td>0.0</td>\n",
       "      <td>0.0</td>\n",
       "      <td>0.0</td>\n",
       "      <td>0.0</td>\n",
       "      <td>0.0</td>\n",
       "    </tr>\n",
       "    <tr>\n",
       "      <th>1</th>\n",
       "      <td>0.0</td>\n",
       "      <td>0.170213</td>\n",
       "      <td>-0.747075</td>\n",
       "      <td>0.0</td>\n",
       "      <td>0.0</td>\n",
       "      <td>0.0</td>\n",
       "      <td>0.0</td>\n",
       "      <td>0.0</td>\n",
       "      <td>0.0</td>\n",
       "      <td>0.0</td>\n",
       "      <td>0.0</td>\n",
       "      <td>0.0</td>\n",
       "      <td>1.0</td>\n",
       "      <td>0.0</td>\n",
       "      <td>0.0</td>\n",
       "    </tr>\n",
       "    <tr>\n",
       "      <th>2</th>\n",
       "      <td>0.0</td>\n",
       "      <td>-0.382979</td>\n",
       "      <td>-0.897390</td>\n",
       "      <td>0.0</td>\n",
       "      <td>1.0</td>\n",
       "      <td>1.0</td>\n",
       "      <td>0.0</td>\n",
       "      <td>1.0</td>\n",
       "      <td>0.0</td>\n",
       "      <td>1.0</td>\n",
       "      <td>0.0</td>\n",
       "      <td>1.0</td>\n",
       "      <td>0.0</td>\n",
       "      <td>0.0</td>\n",
       "      <td>0.0</td>\n",
       "    </tr>\n",
       "    <tr>\n",
       "      <th>3</th>\n",
       "      <td>0.0</td>\n",
       "      <td>0.021277</td>\n",
       "      <td>-0.260126</td>\n",
       "      <td>0.0</td>\n",
       "      <td>0.0</td>\n",
       "      <td>0.0</td>\n",
       "      <td>1.0</td>\n",
       "      <td>0.0</td>\n",
       "      <td>0.0</td>\n",
       "      <td>0.0</td>\n",
       "      <td>1.0</td>\n",
       "      <td>0.0</td>\n",
       "      <td>0.0</td>\n",
       "      <td>0.0</td>\n",
       "      <td>1.0</td>\n",
       "    </tr>\n",
       "    <tr>\n",
       "      <th>4</th>\n",
       "      <td>1.0</td>\n",
       "      <td>0.787234</td>\n",
       "      <td>-0.806481</td>\n",
       "      <td>0.0</td>\n",
       "      <td>1.0</td>\n",
       "      <td>1.0</td>\n",
       "      <td>0.0</td>\n",
       "      <td>1.0</td>\n",
       "      <td>0.0</td>\n",
       "      <td>1.0</td>\n",
       "      <td>0.0</td>\n",
       "      <td>1.0</td>\n",
       "      <td>0.0</td>\n",
       "      <td>0.0</td>\n",
       "      <td>1.0</td>\n",
       "    </tr>\n",
       "  </tbody>\n",
       "</table>\n",
       "</div>"
      ],
      "text/plain": [
       "    0         1         2    3    4    5    6    7    8    9    10   11   12  \\\n",
       "0  0.0  0.468085  0.133213  1.0  0.0  0.0  1.0  0.0  0.0  0.0  0.0  0.0  0.0   \n",
       "1  0.0  0.170213 -0.747075  0.0  0.0  0.0  0.0  0.0  0.0  0.0  0.0  0.0  1.0   \n",
       "2  0.0 -0.382979 -0.897390  0.0  1.0  1.0  0.0  1.0  0.0  1.0  0.0  1.0  0.0   \n",
       "3  0.0  0.021277 -0.260126  0.0  0.0  0.0  1.0  0.0  0.0  0.0  1.0  0.0  0.0   \n",
       "4  1.0  0.787234 -0.806481  0.0  1.0  1.0  0.0  1.0  0.0  1.0  0.0  1.0  0.0   \n",
       "\n",
       "    13   14  \n",
       "0  0.0  0.0  \n",
       "1  0.0  0.0  \n",
       "2  0.0  0.0  \n",
       "3  0.0  1.0  \n",
       "4  0.0  1.0  "
      ]
     },
     "execution_count": 606,
     "metadata": {},
     "output_type": "execute_result"
    }
   ],
   "source": [
    "X_train_scaled.head()"
   ]
  },
  {
   "cell_type": "markdown",
   "id": "b8f57639-d8b5-4d4a-8559-7f699f1b2f6c",
   "metadata": {
    "jp-MarkdownHeadingCollapsed": true,
    "tags": []
   },
   "source": [
    "### Modelling (logistic regression)"
   ]
  },
  {
   "cell_type": "code",
   "execution_count": 607,
   "id": "74dc2edc-b6de-4766-b011-7a98ce3a1362",
   "metadata": {
    "tags": []
   },
   "outputs": [],
   "source": [
    "logreg = LogisticRegression(max_iter = 300, random_state = 10)"
   ]
  },
  {
   "cell_type": "code",
   "execution_count": 608,
   "id": "b814db95-f6ee-499e-9171-e28f31fd501a",
   "metadata": {
    "tags": []
   },
   "outputs": [
    {
     "data": {
      "text/html": [
       "<style>#sk-container-id-6 {color: black;background-color: white;}#sk-container-id-6 pre{padding: 0;}#sk-container-id-6 div.sk-toggleable {background-color: white;}#sk-container-id-6 label.sk-toggleable__label {cursor: pointer;display: block;width: 100%;margin-bottom: 0;padding: 0.3em;box-sizing: border-box;text-align: center;}#sk-container-id-6 label.sk-toggleable__label-arrow:before {content: \"▸\";float: left;margin-right: 0.25em;color: #696969;}#sk-container-id-6 label.sk-toggleable__label-arrow:hover:before {color: black;}#sk-container-id-6 div.sk-estimator:hover label.sk-toggleable__label-arrow:before {color: black;}#sk-container-id-6 div.sk-toggleable__content {max-height: 0;max-width: 0;overflow: hidden;text-align: left;background-color: #f0f8ff;}#sk-container-id-6 div.sk-toggleable__content pre {margin: 0.2em;color: black;border-radius: 0.25em;background-color: #f0f8ff;}#sk-container-id-6 input.sk-toggleable__control:checked~div.sk-toggleable__content {max-height: 200px;max-width: 100%;overflow: auto;}#sk-container-id-6 input.sk-toggleable__control:checked~label.sk-toggleable__label-arrow:before {content: \"▾\";}#sk-container-id-6 div.sk-estimator input.sk-toggleable__control:checked~label.sk-toggleable__label {background-color: #d4ebff;}#sk-container-id-6 div.sk-label input.sk-toggleable__control:checked~label.sk-toggleable__label {background-color: #d4ebff;}#sk-container-id-6 input.sk-hidden--visually {border: 0;clip: rect(1px 1px 1px 1px);clip: rect(1px, 1px, 1px, 1px);height: 1px;margin: -1px;overflow: hidden;padding: 0;position: absolute;width: 1px;}#sk-container-id-6 div.sk-estimator {font-family: monospace;background-color: #f0f8ff;border: 1px dotted black;border-radius: 0.25em;box-sizing: border-box;margin-bottom: 0.5em;}#sk-container-id-6 div.sk-estimator:hover {background-color: #d4ebff;}#sk-container-id-6 div.sk-parallel-item::after {content: \"\";width: 100%;border-bottom: 1px solid gray;flex-grow: 1;}#sk-container-id-6 div.sk-label:hover label.sk-toggleable__label {background-color: #d4ebff;}#sk-container-id-6 div.sk-serial::before {content: \"\";position: absolute;border-left: 1px solid gray;box-sizing: border-box;top: 0;bottom: 0;left: 50%;z-index: 0;}#sk-container-id-6 div.sk-serial {display: flex;flex-direction: column;align-items: center;background-color: white;padding-right: 0.2em;padding-left: 0.2em;position: relative;}#sk-container-id-6 div.sk-item {position: relative;z-index: 1;}#sk-container-id-6 div.sk-parallel {display: flex;align-items: stretch;justify-content: center;background-color: white;position: relative;}#sk-container-id-6 div.sk-item::before, #sk-container-id-6 div.sk-parallel-item::before {content: \"\";position: absolute;border-left: 1px solid gray;box-sizing: border-box;top: 0;bottom: 0;left: 50%;z-index: -1;}#sk-container-id-6 div.sk-parallel-item {display: flex;flex-direction: column;z-index: 1;position: relative;background-color: white;}#sk-container-id-6 div.sk-parallel-item:first-child::after {align-self: flex-end;width: 50%;}#sk-container-id-6 div.sk-parallel-item:last-child::after {align-self: flex-start;width: 50%;}#sk-container-id-6 div.sk-parallel-item:only-child::after {width: 0;}#sk-container-id-6 div.sk-dashed-wrapped {border: 1px dashed gray;margin: 0 0.4em 0.5em 0.4em;box-sizing: border-box;padding-bottom: 0.4em;background-color: white;}#sk-container-id-6 div.sk-label label {font-family: monospace;font-weight: bold;display: inline-block;line-height: 1.2em;}#sk-container-id-6 div.sk-label-container {text-align: center;}#sk-container-id-6 div.sk-container {/* jupyter's `normalize.less` sets `[hidden] { display: none; }` but bootstrap.min.css set `[hidden] { display: none !important; }` so we also need the `!important` here to be able to override the default hidden behavior on the sphinx rendered scikit-learn.org. See: https://github.com/scikit-learn/scikit-learn/issues/21755 */display: inline-block !important;position: relative;}#sk-container-id-6 div.sk-text-repr-fallback {display: none;}</style><div id=\"sk-container-id-6\" class=\"sk-top-container\"><div class=\"sk-text-repr-fallback\"><pre>LogisticRegression(max_iter=300, random_state=10)</pre><b>In a Jupyter environment, please rerun this cell to show the HTML representation or trust the notebook. <br />On GitHub, the HTML representation is unable to render, please try loading this page with nbviewer.org.</b></div><div class=\"sk-container\" hidden><div class=\"sk-item\"><div class=\"sk-estimator sk-toggleable\"><input class=\"sk-toggleable__control sk-hidden--visually\" id=\"sk-estimator-id-6\" type=\"checkbox\" checked><label for=\"sk-estimator-id-6\" class=\"sk-toggleable__label sk-toggleable__label-arrow\">LogisticRegression</label><div class=\"sk-toggleable__content\"><pre>LogisticRegression(max_iter=300, random_state=10)</pre></div></div></div></div></div>"
      ],
      "text/plain": [
       "LogisticRegression(max_iter=300, random_state=10)"
      ]
     },
     "execution_count": 608,
     "metadata": {},
     "output_type": "execute_result"
    }
   ],
   "source": [
    "logreg.fit(X_train_scaled, y_train_lr)"
   ]
  },
  {
   "cell_type": "code",
   "execution_count": 609,
   "id": "fd83f192-1c2d-4809-9d2c-58276c5a4f25",
   "metadata": {
    "tags": []
   },
   "outputs": [
    {
     "data": {
      "text/plain": [
       "array([[0.74766302, 0.25233698],\n",
       "       [0.8535185 , 0.1464815 ],\n",
       "       [0.8113753 , 0.1886247 ],\n",
       "       ...,\n",
       "       [0.98977813, 0.01022187],\n",
       "       [0.98709772, 0.01290228],\n",
       "       [0.58695594, 0.41304406]])"
      ]
     },
     "execution_count": 609,
     "metadata": {},
     "output_type": "execute_result"
    }
   ],
   "source": [
    "# probability predictions\n",
    "logreg.predict_proba(X_train_scaled)"
   ]
  },
  {
   "cell_type": "code",
   "execution_count": 610,
   "id": "b200923e-81af-4623-b119-11dd9c994a6f",
   "metadata": {
    "tags": []
   },
   "outputs": [],
   "source": [
    "# probabilities added to train set\n",
    "X_train_scaled[[\"prob_stay\", \"prob_churn\"]] = logreg.predict_proba(X_train_scaled)"
   ]
  },
  {
   "cell_type": "code",
   "execution_count": 611,
   "id": "1eea9dbb-dda9-4d0e-8cc5-11e6e3b0921f",
   "metadata": {
    "tags": []
   },
   "outputs": [
    {
     "data": {
      "text/html": [
       "<div>\n",
       "<style scoped>\n",
       "    .dataframe tbody tr th:only-of-type {\n",
       "        vertical-align: middle;\n",
       "    }\n",
       "\n",
       "    .dataframe tbody tr th {\n",
       "        vertical-align: top;\n",
       "    }\n",
       "\n",
       "    .dataframe thead th {\n",
       "        text-align: right;\n",
       "    }\n",
       "</style>\n",
       "<table border=\"1\" class=\"dataframe\">\n",
       "  <thead>\n",
       "    <tr style=\"text-align: right;\">\n",
       "      <th></th>\n",
       "      <th>0</th>\n",
       "      <th>1</th>\n",
       "      <th>2</th>\n",
       "      <th>3</th>\n",
       "      <th>4</th>\n",
       "      <th>5</th>\n",
       "      <th>6</th>\n",
       "      <th>7</th>\n",
       "      <th>8</th>\n",
       "      <th>9</th>\n",
       "      <th>10</th>\n",
       "      <th>11</th>\n",
       "      <th>12</th>\n",
       "      <th>13</th>\n",
       "      <th>14</th>\n",
       "      <th>prob_stay</th>\n",
       "      <th>prob_churn</th>\n",
       "    </tr>\n",
       "  </thead>\n",
       "  <tbody>\n",
       "    <tr>\n",
       "      <th>0</th>\n",
       "      <td>0.0</td>\n",
       "      <td>0.468085</td>\n",
       "      <td>0.133213</td>\n",
       "      <td>1.0</td>\n",
       "      <td>0.0</td>\n",
       "      <td>0.0</td>\n",
       "      <td>1.0</td>\n",
       "      <td>0.0</td>\n",
       "      <td>0.0</td>\n",
       "      <td>0.0</td>\n",
       "      <td>0.0</td>\n",
       "      <td>0.0</td>\n",
       "      <td>0.0</td>\n",
       "      <td>0.0</td>\n",
       "      <td>0.0</td>\n",
       "      <td>0.747663</td>\n",
       "      <td>0.252337</td>\n",
       "    </tr>\n",
       "    <tr>\n",
       "      <th>1</th>\n",
       "      <td>0.0</td>\n",
       "      <td>0.170213</td>\n",
       "      <td>-0.747075</td>\n",
       "      <td>0.0</td>\n",
       "      <td>0.0</td>\n",
       "      <td>0.0</td>\n",
       "      <td>0.0</td>\n",
       "      <td>0.0</td>\n",
       "      <td>0.0</td>\n",
       "      <td>0.0</td>\n",
       "      <td>0.0</td>\n",
       "      <td>0.0</td>\n",
       "      <td>1.0</td>\n",
       "      <td>0.0</td>\n",
       "      <td>0.0</td>\n",
       "      <td>0.853519</td>\n",
       "      <td>0.146481</td>\n",
       "    </tr>\n",
       "    <tr>\n",
       "      <th>2</th>\n",
       "      <td>0.0</td>\n",
       "      <td>-0.382979</td>\n",
       "      <td>-0.897390</td>\n",
       "      <td>0.0</td>\n",
       "      <td>1.0</td>\n",
       "      <td>1.0</td>\n",
       "      <td>0.0</td>\n",
       "      <td>1.0</td>\n",
       "      <td>0.0</td>\n",
       "      <td>1.0</td>\n",
       "      <td>0.0</td>\n",
       "      <td>1.0</td>\n",
       "      <td>0.0</td>\n",
       "      <td>0.0</td>\n",
       "      <td>0.0</td>\n",
       "      <td>0.811375</td>\n",
       "      <td>0.188625</td>\n",
       "    </tr>\n",
       "    <tr>\n",
       "      <th>3</th>\n",
       "      <td>0.0</td>\n",
       "      <td>0.021277</td>\n",
       "      <td>-0.260126</td>\n",
       "      <td>0.0</td>\n",
       "      <td>0.0</td>\n",
       "      <td>0.0</td>\n",
       "      <td>1.0</td>\n",
       "      <td>0.0</td>\n",
       "      <td>0.0</td>\n",
       "      <td>0.0</td>\n",
       "      <td>1.0</td>\n",
       "      <td>0.0</td>\n",
       "      <td>0.0</td>\n",
       "      <td>0.0</td>\n",
       "      <td>1.0</td>\n",
       "      <td>0.933714</td>\n",
       "      <td>0.066286</td>\n",
       "    </tr>\n",
       "    <tr>\n",
       "      <th>4</th>\n",
       "      <td>1.0</td>\n",
       "      <td>0.787234</td>\n",
       "      <td>-0.806481</td>\n",
       "      <td>0.0</td>\n",
       "      <td>1.0</td>\n",
       "      <td>1.0</td>\n",
       "      <td>0.0</td>\n",
       "      <td>1.0</td>\n",
       "      <td>0.0</td>\n",
       "      <td>1.0</td>\n",
       "      <td>0.0</td>\n",
       "      <td>1.0</td>\n",
       "      <td>0.0</td>\n",
       "      <td>0.0</td>\n",
       "      <td>1.0</td>\n",
       "      <td>0.997260</td>\n",
       "      <td>0.002740</td>\n",
       "    </tr>\n",
       "  </tbody>\n",
       "</table>\n",
       "</div>"
      ],
      "text/plain": [
       "     0         1         2    3    4    5    6    7    8    9   10   11   12  \\\n",
       "0  0.0  0.468085  0.133213  1.0  0.0  0.0  1.0  0.0  0.0  0.0  0.0  0.0  0.0   \n",
       "1  0.0  0.170213 -0.747075  0.0  0.0  0.0  0.0  0.0  0.0  0.0  0.0  0.0  1.0   \n",
       "2  0.0 -0.382979 -0.897390  0.0  1.0  1.0  0.0  1.0  0.0  1.0  0.0  1.0  0.0   \n",
       "3  0.0  0.021277 -0.260126  0.0  0.0  0.0  1.0  0.0  0.0  0.0  1.0  0.0  0.0   \n",
       "4  1.0  0.787234 -0.806481  0.0  1.0  1.0  0.0  1.0  0.0  1.0  0.0  1.0  0.0   \n",
       "\n",
       "    13   14  prob_stay  prob_churn  \n",
       "0  0.0  0.0   0.747663    0.252337  \n",
       "1  0.0  0.0   0.853519    0.146481  \n",
       "2  0.0  0.0   0.811375    0.188625  \n",
       "3  0.0  1.0   0.933714    0.066286  \n",
       "4  0.0  1.0   0.997260    0.002740  "
      ]
     },
     "execution_count": 611,
     "metadata": {},
     "output_type": "execute_result"
    }
   ],
   "source": [
    "X_train_scaled.head()"
   ]
  },
  {
   "cell_type": "code",
   "execution_count": 612,
   "id": "22231ac1-606f-42ad-b9f2-55e59438eb56",
   "metadata": {
    "tags": []
   },
   "outputs": [],
   "source": [
    "# resetting index to get customer ID's column back \n",
    "X_train_scaled.index = X_train_fe.index"
   ]
  },
  {
   "cell_type": "code",
   "execution_count": 613,
   "id": "a1be87f4-342a-4cc8-ad14-8069a479cb29",
   "metadata": {
    "tags": []
   },
   "outputs": [
    {
     "data": {
      "text/html": [
       "<div>\n",
       "<style scoped>\n",
       "    .dataframe tbody tr th:only-of-type {\n",
       "        vertical-align: middle;\n",
       "    }\n",
       "\n",
       "    .dataframe tbody tr th {\n",
       "        vertical-align: top;\n",
       "    }\n",
       "\n",
       "    .dataframe thead th {\n",
       "        text-align: right;\n",
       "    }\n",
       "</style>\n",
       "<table border=\"1\" class=\"dataframe\">\n",
       "  <thead>\n",
       "    <tr style=\"text-align: right;\">\n",
       "      <th></th>\n",
       "      <th>0</th>\n",
       "      <th>1</th>\n",
       "      <th>2</th>\n",
       "      <th>3</th>\n",
       "      <th>4</th>\n",
       "      <th>5</th>\n",
       "      <th>6</th>\n",
       "      <th>7</th>\n",
       "      <th>8</th>\n",
       "      <th>9</th>\n",
       "      <th>10</th>\n",
       "      <th>11</th>\n",
       "      <th>12</th>\n",
       "      <th>13</th>\n",
       "      <th>14</th>\n",
       "      <th>prob_stay</th>\n",
       "      <th>prob_churn</th>\n",
       "    </tr>\n",
       "    <tr>\n",
       "      <th>CustomerID</th>\n",
       "      <th></th>\n",
       "      <th></th>\n",
       "      <th></th>\n",
       "      <th></th>\n",
       "      <th></th>\n",
       "      <th></th>\n",
       "      <th></th>\n",
       "      <th></th>\n",
       "      <th></th>\n",
       "      <th></th>\n",
       "      <th></th>\n",
       "      <th></th>\n",
       "      <th></th>\n",
       "      <th></th>\n",
       "      <th></th>\n",
       "      <th></th>\n",
       "      <th></th>\n",
       "    </tr>\n",
       "  </thead>\n",
       "  <tbody>\n",
       "    <tr>\n",
       "      <th>9776-CLUJA</th>\n",
       "      <td>0.0</td>\n",
       "      <td>0.468085</td>\n",
       "      <td>0.133213</td>\n",
       "      <td>1.0</td>\n",
       "      <td>0.0</td>\n",
       "      <td>0.0</td>\n",
       "      <td>1.0</td>\n",
       "      <td>0.0</td>\n",
       "      <td>0.0</td>\n",
       "      <td>0.0</td>\n",
       "      <td>0.0</td>\n",
       "      <td>0.0</td>\n",
       "      <td>0.0</td>\n",
       "      <td>0.0</td>\n",
       "      <td>0.0</td>\n",
       "      <td>0.747663</td>\n",
       "      <td>0.252337</td>\n",
       "    </tr>\n",
       "    <tr>\n",
       "      <th>3285-UCQVC</th>\n",
       "      <td>0.0</td>\n",
       "      <td>0.170213</td>\n",
       "      <td>-0.747075</td>\n",
       "      <td>0.0</td>\n",
       "      <td>0.0</td>\n",
       "      <td>0.0</td>\n",
       "      <td>0.0</td>\n",
       "      <td>0.0</td>\n",
       "      <td>0.0</td>\n",
       "      <td>0.0</td>\n",
       "      <td>0.0</td>\n",
       "      <td>0.0</td>\n",
       "      <td>1.0</td>\n",
       "      <td>0.0</td>\n",
       "      <td>0.0</td>\n",
       "      <td>0.853519</td>\n",
       "      <td>0.146481</td>\n",
       "    </tr>\n",
       "    <tr>\n",
       "      <th>2371-JUNGC</th>\n",
       "      <td>0.0</td>\n",
       "      <td>-0.382979</td>\n",
       "      <td>-0.897390</td>\n",
       "      <td>0.0</td>\n",
       "      <td>1.0</td>\n",
       "      <td>1.0</td>\n",
       "      <td>0.0</td>\n",
       "      <td>1.0</td>\n",
       "      <td>0.0</td>\n",
       "      <td>1.0</td>\n",
       "      <td>0.0</td>\n",
       "      <td>1.0</td>\n",
       "      <td>0.0</td>\n",
       "      <td>0.0</td>\n",
       "      <td>0.0</td>\n",
       "      <td>0.811375</td>\n",
       "      <td>0.188625</td>\n",
       "    </tr>\n",
       "    <tr>\n",
       "      <th>1821-BUCWY</th>\n",
       "      <td>0.0</td>\n",
       "      <td>0.021277</td>\n",
       "      <td>-0.260126</td>\n",
       "      <td>0.0</td>\n",
       "      <td>0.0</td>\n",
       "      <td>0.0</td>\n",
       "      <td>1.0</td>\n",
       "      <td>0.0</td>\n",
       "      <td>0.0</td>\n",
       "      <td>0.0</td>\n",
       "      <td>1.0</td>\n",
       "      <td>0.0</td>\n",
       "      <td>0.0</td>\n",
       "      <td>0.0</td>\n",
       "      <td>1.0</td>\n",
       "      <td>0.933714</td>\n",
       "      <td>0.066286</td>\n",
       "    </tr>\n",
       "    <tr>\n",
       "      <th>9337-SRRNI</th>\n",
       "      <td>1.0</td>\n",
       "      <td>0.787234</td>\n",
       "      <td>-0.806481</td>\n",
       "      <td>0.0</td>\n",
       "      <td>1.0</td>\n",
       "      <td>1.0</td>\n",
       "      <td>0.0</td>\n",
       "      <td>1.0</td>\n",
       "      <td>0.0</td>\n",
       "      <td>1.0</td>\n",
       "      <td>0.0</td>\n",
       "      <td>1.0</td>\n",
       "      <td>0.0</td>\n",
       "      <td>0.0</td>\n",
       "      <td>1.0</td>\n",
       "      <td>0.997260</td>\n",
       "      <td>0.002740</td>\n",
       "    </tr>\n",
       "  </tbody>\n",
       "</table>\n",
       "</div>"
      ],
      "text/plain": [
       "              0         1         2    3    4    5    6    7    8    9   10  \\\n",
       "CustomerID                                                                    \n",
       "9776-CLUJA  0.0  0.468085  0.133213  1.0  0.0  0.0  1.0  0.0  0.0  0.0  0.0   \n",
       "3285-UCQVC  0.0  0.170213 -0.747075  0.0  0.0  0.0  0.0  0.0  0.0  0.0  0.0   \n",
       "2371-JUNGC  0.0 -0.382979 -0.897390  0.0  1.0  1.0  0.0  1.0  0.0  1.0  0.0   \n",
       "1821-BUCWY  0.0  0.021277 -0.260126  0.0  0.0  0.0  1.0  0.0  0.0  0.0  1.0   \n",
       "9337-SRRNI  1.0  0.787234 -0.806481  0.0  1.0  1.0  0.0  1.0  0.0  1.0  0.0   \n",
       "\n",
       "             11   12   13   14  prob_stay  prob_churn  \n",
       "CustomerID                                             \n",
       "9776-CLUJA  0.0  0.0  0.0  0.0   0.747663    0.252337  \n",
       "3285-UCQVC  0.0  1.0  0.0  0.0   0.853519    0.146481  \n",
       "2371-JUNGC  1.0  0.0  0.0  0.0   0.811375    0.188625  \n",
       "1821-BUCWY  0.0  0.0  0.0  1.0   0.933714    0.066286  \n",
       "9337-SRRNI  1.0  0.0  0.0  1.0   0.997260    0.002740  "
      ]
     },
     "execution_count": 613,
     "metadata": {},
     "output_type": "execute_result"
    }
   ],
   "source": [
    "X_train_scaled.head()"
   ]
  },
  {
   "cell_type": "code",
   "execution_count": 652,
   "id": "b295e3e6-9bd9-4913-96af-7fe6e48d015e",
   "metadata": {
    "tags": []
   },
   "outputs": [],
   "source": [
    "# setting a threshold at 0.4\n",
    "X_train_scaled[\"y_pred\"] = np.where(X_train_scaled[\"prob_churn\"] > 0.4, 1, 0)"
   ]
  },
  {
   "cell_type": "code",
   "execution_count": 615,
   "id": "3b3af660-ecc5-4f07-a7d8-47d4378acea2",
   "metadata": {
    "tags": []
   },
   "outputs": [
    {
     "data": {
      "text/html": [
       "<div>\n",
       "<style scoped>\n",
       "    .dataframe tbody tr th:only-of-type {\n",
       "        vertical-align: middle;\n",
       "    }\n",
       "\n",
       "    .dataframe tbody tr th {\n",
       "        vertical-align: top;\n",
       "    }\n",
       "\n",
       "    .dataframe thead th {\n",
       "        text-align: right;\n",
       "    }\n",
       "</style>\n",
       "<table border=\"1\" class=\"dataframe\">\n",
       "  <thead>\n",
       "    <tr style=\"text-align: right;\">\n",
       "      <th></th>\n",
       "      <th>0</th>\n",
       "      <th>1</th>\n",
       "      <th>2</th>\n",
       "      <th>3</th>\n",
       "      <th>4</th>\n",
       "      <th>5</th>\n",
       "      <th>6</th>\n",
       "      <th>7</th>\n",
       "      <th>8</th>\n",
       "      <th>9</th>\n",
       "      <th>10</th>\n",
       "      <th>11</th>\n",
       "      <th>12</th>\n",
       "      <th>13</th>\n",
       "      <th>14</th>\n",
       "      <th>prob_stay</th>\n",
       "      <th>prob_churn</th>\n",
       "      <th>y_pred</th>\n",
       "    </tr>\n",
       "    <tr>\n",
       "      <th>CustomerID</th>\n",
       "      <th></th>\n",
       "      <th></th>\n",
       "      <th></th>\n",
       "      <th></th>\n",
       "      <th></th>\n",
       "      <th></th>\n",
       "      <th></th>\n",
       "      <th></th>\n",
       "      <th></th>\n",
       "      <th></th>\n",
       "      <th></th>\n",
       "      <th></th>\n",
       "      <th></th>\n",
       "      <th></th>\n",
       "      <th></th>\n",
       "      <th></th>\n",
       "      <th></th>\n",
       "      <th></th>\n",
       "    </tr>\n",
       "  </thead>\n",
       "  <tbody>\n",
       "    <tr>\n",
       "      <th>9776-CLUJA</th>\n",
       "      <td>0.0</td>\n",
       "      <td>0.468085</td>\n",
       "      <td>0.133213</td>\n",
       "      <td>1.0</td>\n",
       "      <td>0.0</td>\n",
       "      <td>0.0</td>\n",
       "      <td>1.0</td>\n",
       "      <td>0.0</td>\n",
       "      <td>0.0</td>\n",
       "      <td>0.0</td>\n",
       "      <td>0.0</td>\n",
       "      <td>0.0</td>\n",
       "      <td>0.0</td>\n",
       "      <td>0.0</td>\n",
       "      <td>0.0</td>\n",
       "      <td>0.747663</td>\n",
       "      <td>0.252337</td>\n",
       "      <td>0</td>\n",
       "    </tr>\n",
       "    <tr>\n",
       "      <th>3285-UCQVC</th>\n",
       "      <td>0.0</td>\n",
       "      <td>0.170213</td>\n",
       "      <td>-0.747075</td>\n",
       "      <td>0.0</td>\n",
       "      <td>0.0</td>\n",
       "      <td>0.0</td>\n",
       "      <td>0.0</td>\n",
       "      <td>0.0</td>\n",
       "      <td>0.0</td>\n",
       "      <td>0.0</td>\n",
       "      <td>0.0</td>\n",
       "      <td>0.0</td>\n",
       "      <td>1.0</td>\n",
       "      <td>0.0</td>\n",
       "      <td>0.0</td>\n",
       "      <td>0.853519</td>\n",
       "      <td>0.146481</td>\n",
       "      <td>0</td>\n",
       "    </tr>\n",
       "    <tr>\n",
       "      <th>2371-JUNGC</th>\n",
       "      <td>0.0</td>\n",
       "      <td>-0.382979</td>\n",
       "      <td>-0.897390</td>\n",
       "      <td>0.0</td>\n",
       "      <td>1.0</td>\n",
       "      <td>1.0</td>\n",
       "      <td>0.0</td>\n",
       "      <td>1.0</td>\n",
       "      <td>0.0</td>\n",
       "      <td>1.0</td>\n",
       "      <td>0.0</td>\n",
       "      <td>1.0</td>\n",
       "      <td>0.0</td>\n",
       "      <td>0.0</td>\n",
       "      <td>0.0</td>\n",
       "      <td>0.811375</td>\n",
       "      <td>0.188625</td>\n",
       "      <td>0</td>\n",
       "    </tr>\n",
       "    <tr>\n",
       "      <th>1821-BUCWY</th>\n",
       "      <td>0.0</td>\n",
       "      <td>0.021277</td>\n",
       "      <td>-0.260126</td>\n",
       "      <td>0.0</td>\n",
       "      <td>0.0</td>\n",
       "      <td>0.0</td>\n",
       "      <td>1.0</td>\n",
       "      <td>0.0</td>\n",
       "      <td>0.0</td>\n",
       "      <td>0.0</td>\n",
       "      <td>1.0</td>\n",
       "      <td>0.0</td>\n",
       "      <td>0.0</td>\n",
       "      <td>0.0</td>\n",
       "      <td>1.0</td>\n",
       "      <td>0.933714</td>\n",
       "      <td>0.066286</td>\n",
       "      <td>0</td>\n",
       "    </tr>\n",
       "    <tr>\n",
       "      <th>9337-SRRNI</th>\n",
       "      <td>1.0</td>\n",
       "      <td>0.787234</td>\n",
       "      <td>-0.806481</td>\n",
       "      <td>0.0</td>\n",
       "      <td>1.0</td>\n",
       "      <td>1.0</td>\n",
       "      <td>0.0</td>\n",
       "      <td>1.0</td>\n",
       "      <td>0.0</td>\n",
       "      <td>1.0</td>\n",
       "      <td>0.0</td>\n",
       "      <td>1.0</td>\n",
       "      <td>0.0</td>\n",
       "      <td>0.0</td>\n",
       "      <td>1.0</td>\n",
       "      <td>0.997260</td>\n",
       "      <td>0.002740</td>\n",
       "      <td>0</td>\n",
       "    </tr>\n",
       "  </tbody>\n",
       "</table>\n",
       "</div>"
      ],
      "text/plain": [
       "              0         1         2    3    4    5    6    7    8    9   10  \\\n",
       "CustomerID                                                                    \n",
       "9776-CLUJA  0.0  0.468085  0.133213  1.0  0.0  0.0  1.0  0.0  0.0  0.0  0.0   \n",
       "3285-UCQVC  0.0  0.170213 -0.747075  0.0  0.0  0.0  0.0  0.0  0.0  0.0  0.0   \n",
       "2371-JUNGC  0.0 -0.382979 -0.897390  0.0  1.0  1.0  0.0  1.0  0.0  1.0  0.0   \n",
       "1821-BUCWY  0.0  0.021277 -0.260126  0.0  0.0  0.0  1.0  0.0  0.0  0.0  1.0   \n",
       "9337-SRRNI  1.0  0.787234 -0.806481  0.0  1.0  1.0  0.0  1.0  0.0  1.0  0.0   \n",
       "\n",
       "             11   12   13   14  prob_stay  prob_churn  y_pred  \n",
       "CustomerID                                                     \n",
       "9776-CLUJA  0.0  0.0  0.0  0.0   0.747663    0.252337       0  \n",
       "3285-UCQVC  0.0  1.0  0.0  0.0   0.853519    0.146481       0  \n",
       "2371-JUNGC  1.0  0.0  0.0  0.0   0.811375    0.188625       0  \n",
       "1821-BUCWY  0.0  0.0  0.0  1.0   0.933714    0.066286       0  \n",
       "9337-SRRNI  1.0  0.0  0.0  1.0   0.997260    0.002740       0  "
      ]
     },
     "execution_count": 615,
     "metadata": {},
     "output_type": "execute_result"
    }
   ],
   "source": [
    "X_train_scaled.head()"
   ]
  },
  {
   "cell_type": "code",
   "execution_count": 616,
   "id": "fee0652b-064e-493d-b53a-05f06fc0800f",
   "metadata": {
    "tags": []
   },
   "outputs": [],
   "source": [
    "# now the same goes for test\n",
    "# we start by passing it through FE function\n",
    "X_test_fe_lr = feature_engineering_log_reg(X_test_lr)"
   ]
  },
  {
   "cell_type": "code",
   "execution_count": 617,
   "id": "afd54b4b-8f74-4de2-bab2-68bc2e84a4f6",
   "metadata": {
    "tags": []
   },
   "outputs": [],
   "source": [
    "# and scale\n",
    "X_test_scaled = pd.DataFrame(rob.transform(X_test_fe_lr))"
   ]
  },
  {
   "cell_type": "code",
   "execution_count": 618,
   "id": "a600d553-cd47-4696-a4ba-a9008467eb13",
   "metadata": {
    "tags": []
   },
   "outputs": [
    {
     "data": {
      "text/plain": [
       "array([[0.36018185, 0.63981815],\n",
       "       [0.58576594, 0.41423406],\n",
       "       [0.76701441, 0.23298559],\n",
       "       ...,\n",
       "       [0.99614002, 0.00385998],\n",
       "       [0.98463812, 0.01536188],\n",
       "       [0.97248703, 0.02751297]])"
      ]
     },
     "execution_count": 618,
     "metadata": {},
     "output_type": "execute_result"
    }
   ],
   "source": [
    "# probability predictions\n",
    "logreg.predict_proba(X_test_scaled)"
   ]
  },
  {
   "cell_type": "code",
   "execution_count": 619,
   "id": "5ea7449f-5041-4d0d-9cc1-c99bcf984423",
   "metadata": {
    "tags": []
   },
   "outputs": [],
   "source": [
    "# add probabilities to test set\n",
    "X_test_scaled[[\"prob_stay\", \"prob_churn\"]] = logreg.predict_proba(X_test_scaled)"
   ]
  },
  {
   "cell_type": "code",
   "execution_count": 620,
   "id": "59cf7d51-73f5-4b83-b0ba-37048b97398f",
   "metadata": {
    "tags": []
   },
   "outputs": [],
   "source": [
    "# as before resetting index \n",
    "X_test_scaled.index = X_test_fe_lr.index"
   ]
  },
  {
   "cell_type": "code",
   "execution_count": 621,
   "id": "9691bce6-38e6-4868-8779-2c9a48efa108",
   "metadata": {
    "tags": []
   },
   "outputs": [
    {
     "data": {
      "text/html": [
       "<div>\n",
       "<style scoped>\n",
       "    .dataframe tbody tr th:only-of-type {\n",
       "        vertical-align: middle;\n",
       "    }\n",
       "\n",
       "    .dataframe tbody tr th {\n",
       "        vertical-align: top;\n",
       "    }\n",
       "\n",
       "    .dataframe thead th {\n",
       "        text-align: right;\n",
       "    }\n",
       "</style>\n",
       "<table border=\"1\" class=\"dataframe\">\n",
       "  <thead>\n",
       "    <tr style=\"text-align: right;\">\n",
       "      <th></th>\n",
       "      <th>0</th>\n",
       "      <th>1</th>\n",
       "      <th>2</th>\n",
       "      <th>3</th>\n",
       "      <th>4</th>\n",
       "      <th>5</th>\n",
       "      <th>6</th>\n",
       "      <th>7</th>\n",
       "      <th>8</th>\n",
       "      <th>9</th>\n",
       "      <th>10</th>\n",
       "      <th>11</th>\n",
       "      <th>12</th>\n",
       "      <th>13</th>\n",
       "      <th>14</th>\n",
       "      <th>prob_stay</th>\n",
       "      <th>prob_churn</th>\n",
       "    </tr>\n",
       "    <tr>\n",
       "      <th>CustomerID</th>\n",
       "      <th></th>\n",
       "      <th></th>\n",
       "      <th></th>\n",
       "      <th></th>\n",
       "      <th></th>\n",
       "      <th></th>\n",
       "      <th></th>\n",
       "      <th></th>\n",
       "      <th></th>\n",
       "      <th></th>\n",
       "      <th></th>\n",
       "      <th></th>\n",
       "      <th></th>\n",
       "      <th></th>\n",
       "      <th></th>\n",
       "      <th></th>\n",
       "      <th></th>\n",
       "    </tr>\n",
       "  </thead>\n",
       "  <tbody>\n",
       "    <tr>\n",
       "      <th>2189-WWOEW</th>\n",
       "      <td>0.0</td>\n",
       "      <td>-0.297872</td>\n",
       "      <td>0.284428</td>\n",
       "      <td>1.0</td>\n",
       "      <td>0.0</td>\n",
       "      <td>0.0</td>\n",
       "      <td>0.0</td>\n",
       "      <td>0.0</td>\n",
       "      <td>1.0</td>\n",
       "      <td>0.0</td>\n",
       "      <td>0.0</td>\n",
       "      <td>0.0</td>\n",
       "      <td>0.0</td>\n",
       "      <td>0.0</td>\n",
       "      <td>0.0</td>\n",
       "      <td>0.360182</td>\n",
       "      <td>0.639818</td>\n",
       "    </tr>\n",
       "    <tr>\n",
       "      <th>2446-ZKVAF</th>\n",
       "      <td>0.0</td>\n",
       "      <td>-0.234043</td>\n",
       "      <td>-0.239424</td>\n",
       "      <td>0.0</td>\n",
       "      <td>0.0</td>\n",
       "      <td>0.0</td>\n",
       "      <td>0.0</td>\n",
       "      <td>0.0</td>\n",
       "      <td>1.0</td>\n",
       "      <td>0.0</td>\n",
       "      <td>0.0</td>\n",
       "      <td>0.0</td>\n",
       "      <td>0.0</td>\n",
       "      <td>0.0</td>\n",
       "      <td>0.0</td>\n",
       "      <td>0.585766</td>\n",
       "      <td>0.414234</td>\n",
       "    </tr>\n",
       "    <tr>\n",
       "      <th>4986-MXSFP</th>\n",
       "      <td>0.0</td>\n",
       "      <td>-0.574468</td>\n",
       "      <td>-0.901890</td>\n",
       "      <td>0.0</td>\n",
       "      <td>1.0</td>\n",
       "      <td>1.0</td>\n",
       "      <td>0.0</td>\n",
       "      <td>1.0</td>\n",
       "      <td>0.0</td>\n",
       "      <td>1.0</td>\n",
       "      <td>0.0</td>\n",
       "      <td>1.0</td>\n",
       "      <td>0.0</td>\n",
       "      <td>0.0</td>\n",
       "      <td>0.0</td>\n",
       "      <td>0.767014</td>\n",
       "      <td>0.232986</td>\n",
       "    </tr>\n",
       "    <tr>\n",
       "      <th>5868-YWPDW</th>\n",
       "      <td>0.0</td>\n",
       "      <td>-0.489362</td>\n",
       "      <td>0.253825</td>\n",
       "      <td>1.0</td>\n",
       "      <td>0.0</td>\n",
       "      <td>0.0</td>\n",
       "      <td>0.0</td>\n",
       "      <td>0.0</td>\n",
       "      <td>1.0</td>\n",
       "      <td>0.0</td>\n",
       "      <td>0.0</td>\n",
       "      <td>0.0</td>\n",
       "      <td>0.0</td>\n",
       "      <td>0.0</td>\n",
       "      <td>0.0</td>\n",
       "      <td>0.306965</td>\n",
       "      <td>0.693035</td>\n",
       "    </tr>\n",
       "    <tr>\n",
       "      <th>9412-GHEEC</th>\n",
       "      <td>0.0</td>\n",
       "      <td>0.234043</td>\n",
       "      <td>0.624662</td>\n",
       "      <td>1.0</td>\n",
       "      <td>0.0</td>\n",
       "      <td>0.0</td>\n",
       "      <td>0.0</td>\n",
       "      <td>0.0</td>\n",
       "      <td>0.0</td>\n",
       "      <td>0.0</td>\n",
       "      <td>1.0</td>\n",
       "      <td>0.0</td>\n",
       "      <td>1.0</td>\n",
       "      <td>0.0</td>\n",
       "      <td>0.0</td>\n",
       "      <td>0.531655</td>\n",
       "      <td>0.468345</td>\n",
       "    </tr>\n",
       "  </tbody>\n",
       "</table>\n",
       "</div>"
      ],
      "text/plain": [
       "              0         1         2    3    4    5    6    7    8    9   10  \\\n",
       "CustomerID                                                                    \n",
       "2189-WWOEW  0.0 -0.297872  0.284428  1.0  0.0  0.0  0.0  0.0  1.0  0.0  0.0   \n",
       "2446-ZKVAF  0.0 -0.234043 -0.239424  0.0  0.0  0.0  0.0  0.0  1.0  0.0  0.0   \n",
       "4986-MXSFP  0.0 -0.574468 -0.901890  0.0  1.0  1.0  0.0  1.0  0.0  1.0  0.0   \n",
       "5868-YWPDW  0.0 -0.489362  0.253825  1.0  0.0  0.0  0.0  0.0  1.0  0.0  0.0   \n",
       "9412-GHEEC  0.0  0.234043  0.624662  1.0  0.0  0.0  0.0  0.0  0.0  0.0  1.0   \n",
       "\n",
       "             11   12   13   14  prob_stay  prob_churn  \n",
       "CustomerID                                             \n",
       "2189-WWOEW  0.0  0.0  0.0  0.0   0.360182    0.639818  \n",
       "2446-ZKVAF  0.0  0.0  0.0  0.0   0.585766    0.414234  \n",
       "4986-MXSFP  1.0  0.0  0.0  0.0   0.767014    0.232986  \n",
       "5868-YWPDW  0.0  0.0  0.0  0.0   0.306965    0.693035  \n",
       "9412-GHEEC  0.0  1.0  0.0  0.0   0.531655    0.468345  "
      ]
     },
     "execution_count": 621,
     "metadata": {},
     "output_type": "execute_result"
    }
   ],
   "source": [
    "X_test_scaled.head()"
   ]
  },
  {
   "cell_type": "code",
   "execution_count": 622,
   "id": "652f2bb7-8c9b-4fb8-8312-f0d08144b6d9",
   "metadata": {
    "tags": []
   },
   "outputs": [],
   "source": [
    "# setting threshold at 0.4\n",
    "X_test_scaled[\"y_pred\"] = np.where(X_test_scaled[\"prob_churn\"] > 0.4, 1, 0)"
   ]
  },
  {
   "cell_type": "markdown",
   "id": "841f5f1b-e368-4056-b7bf-4300f323ff24",
   "metadata": {
    "jp-MarkdownHeadingCollapsed": true,
    "tags": []
   },
   "source": [
    "### Evaluate the model"
   ]
  },
  {
   "cell_type": "code",
   "execution_count": null,
   "id": "03f5b7d9-ab74-4a3d-a6fc-b9b570f1b2d5",
   "metadata": {},
   "outputs": [],
   "source": [
    "# helper function to get all metrics\n",
    "def apr(y_pred, y_real):\n",
    "    accuracy = metrics.accuracy_score(y_real, y_pred)\n",
    "    precision = metrics.precision_score(y_real, y_pred)\n",
    "    recall = metrics.recall_score(y_real, y_pred)\n",
    "    f1 = metrics.f1_score(y_real, y_pred)\n",
    "    \n",
    "    print(f\"Accuracy:{accuracy}\")\n",
    "    print(f\"Precision:{precision}\")\n",
    "    print(f\"Recall:{recall}\")\n",
    "    print(f\"F1:{f1}\")\n",
    "    return accuracy, precision, recall, f1"
   ]
  },
  {
   "cell_type": "code",
   "execution_count": 685,
   "id": "db788319-5720-4492-89c3-f3e52ee54d45",
   "metadata": {
    "tags": []
   },
   "outputs": [
    {
     "name": "stdout",
     "output_type": "stream",
     "text": [
      "Accuracy:0.7924949290060852\n",
      "Precision:0.5881147540983607\n",
      "Recall:0.6721311475409836\n",
      "F1:0.6273224043715846\n"
     ]
    },
    {
     "data": {
      "text/plain": [
       "(0.7924949290060852,\n",
       " 0.5881147540983607,\n",
       " 0.6721311475409836,\n",
       " 0.6273224043715846)"
      ]
     },
     "execution_count": 685,
     "metadata": {},
     "output_type": "execute_result"
    }
   ],
   "source": [
    "apr(X_train_scaled[\"y_pred\"], y_train_lr)"
   ]
  },
  {
   "cell_type": "code",
   "execution_count": 638,
   "id": "81fd7009-434a-4f42-ac4d-332cfbe54093",
   "metadata": {
    "tags": []
   },
   "outputs": [
    {
     "name": "stdout",
     "output_type": "stream",
     "text": [
      "Accuracy:0.7870326549929011\n",
      "Precision:0.6002906976744186\n",
      "Recall:0.7023809523809523\n",
      "F1:0.647335423197492\n"
     ]
    },
    {
     "data": {
      "text/plain": [
       "(0.7870326549929011, 0.6002906976744186, 0.7023809523809523, 0.647335423197492)"
      ]
     },
     "execution_count": 638,
     "metadata": {},
     "output_type": "execute_result"
    }
   ],
   "source": [
    "apr(X_test_scaled[\"y_pred\"], y_test_lr)"
   ]
  },
  {
   "cell_type": "markdown",
   "id": "ec16a54e-a927-4b76-8b79-694f88007014",
   "metadata": {},
   "source": [
    "Reasonable results showing a fairly robust model"
   ]
  },
  {
   "cell_type": "code",
   "execution_count": 631,
   "id": "dd7a8704-8131-4068-abb7-bae864b3f43f",
   "metadata": {
    "tags": []
   },
   "outputs": [
    {
     "name": "stdout",
     "output_type": "stream",
     "text": [
      "[[3046  603]\n",
      " [ 420  861]]\n"
     ]
    }
   ],
   "source": [
    "# confusion matrix for train\n",
    "print(metrics.confusion_matrix(y_train_lr, X_train_scaled[\"y_pred\"]))"
   ]
  },
  {
   "cell_type": "code",
   "execution_count": 632,
   "id": "4dc084c7-a5a3-48ad-97cc-45af05f11254",
   "metadata": {
    "tags": []
   },
   "outputs": [
    {
     "name": "stdout",
     "output_type": "stream",
     "text": [
      "[[1250  275]\n",
      " [ 175  413]]\n"
     ]
    }
   ],
   "source": [
    "# confusion matrix for test\n",
    "print(metrics.confusion_matrix(y_test_lr, X_test_scaled[\"y_pred\"]))"
   ]
  },
  {
   "cell_type": "code",
   "execution_count": 686,
   "id": "c25497b2-d2b6-4557-8cb5-0d9f3e0d6804",
   "metadata": {
    "tags": []
   },
   "outputs": [
    {
     "data": {
      "text/plain": [
       "Text(0.5, 1.0, 'Confusion Matrix for Test Set')"
      ]
     },
     "execution_count": 686,
     "metadata": {},
     "output_type": "execute_result"
    },
    {
     "data": {
      "image/png": "[encoded data removed]",
      "text/plain": [
       "<Figure size 2000x800 with 4 Axes>"
      ]
     },
     "metadata": {},
     "output_type": "display_data"
    }
   ],
   "source": [
    "# plotting confusion matrix for train and test\n",
    "\n",
    "fig, (ax1, ax2) = plt.subplots(1,2, figsize=(20,8))\n",
    "\n",
    "cmd_train = metrics.ConfusionMatrixDisplay.from_predictions(y_train_lr, X_train_scaled[\"y_pred\"], display_labels=['Stay', 'Churn'], cmap = 'Blues', ax = ax1)\n",
    "cmd_train.ax_.set_title(\"Confusion Matrix for Train Set\")\n",
    "\n",
    "cmd_test = metrics.ConfusionMatrixDisplay.from_predictions(y_test_lr, X_test_scaled[\"y_pred\"], display_labels=['Stay', 'Churn'], cmap = 'Blues', ax = ax2)\n",
    "cmd_test.ax_.set_title(\"Confusion Matrix for Test Set\")\n"
   ]
  },
  {
   "cell_type": "markdown",
   "id": "8f49a691-5374-41ec-af08-6175eefa3d5d",
   "metadata": {},
   "source": [
    "We wanted to experiment with other models  "
   ]
  },
  {
   "cell_type": "markdown",
   "id": "ab524741-65de-4efc-802f-86c851dfbf50",
   "metadata": {
    "tags": []
   },
   "source": [
    "<h2 align= \"left\" style=\"color: #163E67\">Random Forest Model</h2>"
   ]
  },
  {
   "cell_type": "markdown",
   "id": "7c527521-8ee9-4b9c-9a79-10e88d355125",
   "metadata": {
    "jp-MarkdownHeadingCollapsed": true,
    "tags": []
   },
   "source": [
    "### Creation Fitting & Fine-Tuning  "
   ]
  },
  {
   "cell_type": "code",
   "execution_count": 479,
   "id": "2e3a60c8-2ab1-41b6-a16b-1d0ca5727880",
   "metadata": {},
   "outputs": [],
   "source": [
    "# create object\n",
    "rf = RandomForestClassifier(n_estimators=50)"
   ]
  },
  {
   "cell_type": "code",
   "execution_count": 480,
   "id": "ae6ee74a-aa7a-4201-ac7b-307d387d5bb9",
   "metadata": {},
   "outputs": [],
   "source": [
    "# get score with 5 folds\n",
    "rf_score = cross_val_score(rf, X_train_fe, y_train, cv=5)"
   ]
  },
  {
   "cell_type": "code",
   "execution_count": 481,
   "id": "ca5a979a-84c6-4c0d-9c7c-3eddc0b261af",
   "metadata": {},
   "outputs": [
    {
     "name": "stdout",
     "output_type": "stream",
     "text": [
      "Random scored [0.79208925 0.7484787  0.77991886 0.76977688 0.77383367]\n"
     ]
    }
   ],
   "source": [
    "print(f'Random scored {rf_score}')"
   ]
  },
  {
   "cell_type": "code",
   "execution_count": 482,
   "id": "6d6721ff-7a6a-444d-813f-531b9d31a639",
   "metadata": {},
   "outputs": [
    {
     "name": "stdout",
     "output_type": "stream",
     "text": [
      "Fitting 5 folds for each of 18 candidates, totalling 90 fits\n",
      "0.7983772819472617\n"
     ]
    },
    {
     "data": {
      "text/plain": [
       "{'max_depth': 5, 'n_estimators': 100}"
      ]
     },
     "execution_count": 482,
     "metadata": {},
     "output_type": "execute_result"
    }
   ],
   "source": [
    "# hypertuning the random forest itself\n",
    "\n",
    "# step 1: select the params for our random forest\n",
    "rf_params = {\n",
    "    'n_estimators': [100, 150, 200],  \n",
    "    'max_depth': [None, 1, 2, 3, 4, 5],  \n",
    "    #'max_features': [5, 6, 7, 8], once columns have been reduced significantly it felt like there was no need for this  \n",
    "    \n",
    "}\n",
    "\n",
    "# create a grid search object\n",
    "gs = GridSearchCV(rf, param_grid=rf_params, cv=5, verbose = 1, scoring = 'accuracy') \n",
    "\n",
    "# fit the grid search on the training set\n",
    "gs.fit(X_train_fe, y_train)\n",
    "\n",
    "# get the best accuracy score\n",
    "print(gs.best_score_)\n",
    "\n",
    "# get best parameters\n",
    "gs.best_params_"
   ]
  },
  {
   "cell_type": "code",
   "execution_count": 484,
   "id": "91966b3c-e8f1-473c-8a04-44ecb169f658",
   "metadata": {},
   "outputs": [],
   "source": [
    "# save best model as a random forest model\n",
    "best_rf = gs.best_estimator_\n",
    "\n",
    "# use the best model to predict on X_train\n",
    "y_pred = best_rf.predict(X_train_fe)\n",
    "\n",
    "# explainability of Random Forest/Decision Trees\n",
    "importance = list(zip(X_train_fe.columns, best_rf.feature_importances_))"
   ]
  },
  {
   "cell_type": "code",
   "execution_count": 485,
   "id": "0d97118b-8792-4972-8456-2a43f12ae6a9",
   "metadata": {},
   "outputs": [
    {
     "data": {
      "text/plain": [
       "[('Contract', 0.32167828007294424),\n",
       " ('Tenure Months', 0.18950674882117013),\n",
       " ('Tech Support', 0.10699331249549061),\n",
       " ('Online Security', 0.10200149206477166),\n",
       " ('Monthly Charges', 0.09263634752899313),\n",
       " ('Dependents', 0.08462774932847011),\n",
       " ('Internet Service', 0.04951941748568979),\n",
       " ('Online Backup', 0.03997436703370057),\n",
       " ('Device Protection', 0.013062285168769843)]"
      ]
     },
     "execution_count": 485,
     "metadata": {},
     "output_type": "execute_result"
    }
   ],
   "source": [
    "# sort importances of columns in model\n",
    "sorted(importance, key=lambda x: x[1], reverse=True)"
   ]
  },
  {
   "cell_type": "markdown",
   "id": "64f165a2-b8de-4e5c-b33b-50aa1defa8b7",
   "metadata": {
    "jp-MarkdownHeadingCollapsed": true,
    "tags": []
   },
   "source": [
    "### Evaluating the Model"
   ]
  },
  {
   "cell_type": "code",
   "execution_count": 483,
   "id": "1956a7d9-9877-4abf-84d7-2148a36f94a1",
   "metadata": {},
   "outputs": [
    {
     "data": {
      "text/plain": [
       "0.8129817444219067"
      ]
     },
     "execution_count": 483,
     "metadata": {},
     "output_type": "execute_result"
    }
   ],
   "source": [
    "gs.score(X_train_fe, y_train)"
   ]
  },
  {
   "cell_type": "code",
   "execution_count": 486,
   "id": "8b1363ee-1370-4fd4-9f0f-b77c563682eb",
   "metadata": {},
   "outputs": [
    {
     "name": "stdout",
     "output_type": "stream",
     "text": [
      "Accuracy:0.8129817444219067\n",
      "Precision:0.6867845993756504\n",
      "Recall:0.5152224824355972\n",
      "F1:0.5887600356824264\n"
     ]
    },
    {
     "data": {
      "text/plain": [
       "(0.8129817444219067,\n",
       " 0.6867845993756504,\n",
       " 0.5152224824355972,\n",
       " 0.5887600356824264)"
      ]
     },
     "execution_count": 486,
     "metadata": {},
     "output_type": "execute_result"
    }
   ],
   "source": [
    "apr(y_pred, y_train)"
   ]
  },
  {
   "cell_type": "code",
   "execution_count": 490,
   "id": "e02dcb54-6baa-4680-b8b2-4e3e27ff18be",
   "metadata": {},
   "outputs": [],
   "source": [
    "X_test_fe = feature_engineering(X_test)"
   ]
  },
  {
   "cell_type": "code",
   "execution_count": 491,
   "id": "ea7c4de8-bf54-41eb-bb55-3038fd38eafd",
   "metadata": {},
   "outputs": [],
   "source": [
    "y_test_pred = best_rf.predict(X_test_fe) "
   ]
  },
  {
   "cell_type": "code",
   "execution_count": 492,
   "id": "94b64b39-3dd8-4a77-b7ce-c2e12acf3139",
   "metadata": {},
   "outputs": [
    {
     "name": "stdout",
     "output_type": "stream",
     "text": [
      "Accuracy:0.8017037387600567\n",
      "Precision:0.6794055201698513\n",
      "Recall:0.54421768707483\n",
      "F1:0.6043437204910294\n"
     ]
    },
    {
     "data": {
      "text/plain": [
       "(0.8017037387600567, 0.6794055201698513, 0.54421768707483, 0.6043437204910294)"
      ]
     },
     "execution_count": 492,
     "metadata": {},
     "output_type": "execute_result"
    }
   ],
   "source": [
    "apr(y_test_pred, y_test)"
   ]
  },
  {
   "cell_type": "markdown",
   "id": "fbc61ed1-4413-4f83-b016-45cc7e472ff4",
   "metadata": {},
   "source": [
    "We seem to have a model that isn't overfit and even performed a little better on the test dataset with recall and F1 metrics"
   ]
  },
  {
   "cell_type": "markdown",
   "id": "70e7b5c6-9656-476a-afbf-ef9931969bed",
   "metadata": {
    "jp-MarkdownHeadingCollapsed": true,
    "tags": []
   },
   "source": [
    "### Further Tuning with Threshold"
   ]
  },
  {
   "cell_type": "code",
   "execution_count": 488,
   "id": "c0356b84-3316-4f74-bd86-050c74f26479",
   "metadata": {},
   "outputs": [
    {
     "data": {
      "text/html": [
       "<div>\n",
       "<style scoped>\n",
       "    .dataframe tbody tr th:only-of-type {\n",
       "        vertical-align: middle;\n",
       "    }\n",
       "\n",
       "    .dataframe tbody tr th {\n",
       "        vertical-align: top;\n",
       "    }\n",
       "\n",
       "    .dataframe thead th {\n",
       "        text-align: right;\n",
       "    }\n",
       "</style>\n",
       "<table border=\"1\" class=\"dataframe\">\n",
       "  <thead>\n",
       "    <tr style=\"text-align: right;\">\n",
       "      <th></th>\n",
       "      <th>y_pred</th>\n",
       "      <th>y_prob</th>\n",
       "    </tr>\n",
       "    <tr>\n",
       "      <th>CustomerID</th>\n",
       "      <th></th>\n",
       "      <th></th>\n",
       "    </tr>\n",
       "  </thead>\n",
       "  <tbody>\n",
       "    <tr>\n",
       "      <th>8650-RHRKE</th>\n",
       "      <td>1</td>\n",
       "      <td>0.498135</td>\n",
       "    </tr>\n",
       "    <tr>\n",
       "      <th>3565-UNOCC</th>\n",
       "      <td>1</td>\n",
       "      <td>0.525475</td>\n",
       "    </tr>\n",
       "    <tr>\n",
       "      <th>9057-SIHCH</th>\n",
       "      <td>1</td>\n",
       "      <td>0.689051</td>\n",
       "    </tr>\n",
       "    <tr>\n",
       "      <th>9506-UXUSK</th>\n",
       "      <td>1</td>\n",
       "      <td>0.564280</td>\n",
       "    </tr>\n",
       "    <tr>\n",
       "      <th>1024-GUALD</th>\n",
       "      <td>1</td>\n",
       "      <td>0.575666</td>\n",
       "    </tr>\n",
       "    <tr>\n",
       "      <th>...</th>\n",
       "      <td>...</td>\n",
       "      <td>...</td>\n",
       "    </tr>\n",
       "    <tr>\n",
       "      <th>7851-FLGGQ</th>\n",
       "      <td>1</td>\n",
       "      <td>0.445778</td>\n",
       "    </tr>\n",
       "    <tr>\n",
       "      <th>4636-QRJKY</th>\n",
       "      <td>1</td>\n",
       "      <td>0.557708</td>\n",
       "    </tr>\n",
       "    <tr>\n",
       "      <th>6896-SRVYQ</th>\n",
       "      <td>1</td>\n",
       "      <td>0.460370</td>\n",
       "    </tr>\n",
       "    <tr>\n",
       "      <th>1763-WQFUK</th>\n",
       "      <td>1</td>\n",
       "      <td>0.416524</td>\n",
       "    </tr>\n",
       "    <tr>\n",
       "      <th>3761-FLYZI</th>\n",
       "      <td>1</td>\n",
       "      <td>0.449786</td>\n",
       "    </tr>\n",
       "  </tbody>\n",
       "</table>\n",
       "<p>1449 rows × 2 columns</p>\n",
       "</div>"
      ],
      "text/plain": [
       "            y_pred    y_prob\n",
       "CustomerID                  \n",
       "8650-RHRKE       1  0.498135\n",
       "3565-UNOCC       1  0.525475\n",
       "9057-SIHCH       1  0.689051\n",
       "9506-UXUSK       1  0.564280\n",
       "1024-GUALD       1  0.575666\n",
       "...            ...       ...\n",
       "7851-FLGGQ       1  0.445778\n",
       "4636-QRJKY       1  0.557708\n",
       "6896-SRVYQ       1  0.460370\n",
       "1763-WQFUK       1  0.416524\n",
       "3761-FLYZI       1  0.449786\n",
       "\n",
       "[1449 rows x 2 columns]"
      ]
     },
     "execution_count": 488,
     "metadata": {},
     "output_type": "execute_result"
    }
   ],
   "source": [
    "# threshold parameter that was tested with various values \n",
    "threshold = 0.4\n",
    "\n",
    "train_results = X_train.copy()\n",
    "\n",
    "# adding target probability and prediction based on the threshold to a copy of our training set \n",
    "train_results['y_real'] = y_train\n",
    "train_results['y_prob'] = best_rf.predict_proba(X_train_fe)[:,1] \n",
    "train_results['y_pred'] = (best_rf.predict_proba(X_train_fe)[:,1] >= threshold).astype(int)\n",
    "\n",
    "# a glance to see it works\n",
    "train_results[['y_pred', 'y_prob']][train_results['y_pred'] >= threshold]"
   ]
  },
  {
   "cell_type": "code",
   "execution_count": 489,
   "id": "a26101e2-cde4-4c22-b68f-641d558a194b",
   "metadata": {
    "tags": []
   },
   "outputs": [
    {
     "name": "stdout",
     "output_type": "stream",
     "text": [
      "Accuracy:0.8040567951318458\n",
      "Precision:0.6086956521739131\n",
      "Recall:0.6885245901639344\n",
      "F1:0.6461538461538463\n"
     ]
    },
    {
     "data": {
      "text/plain": [
       "(0.8040567951318458,\n",
       " 0.6086956521739131,\n",
       " 0.6885245901639344,\n",
       " 0.6461538461538463)"
      ]
     },
     "execution_count": 489,
     "metadata": {},
     "output_type": "execute_result"
    }
   ],
   "source": [
    "# checking metrics once threshold is applied\n",
    "apr(train_results['y_pred'], train_results['y_real'])"
   ]
  },
  {
   "cell_type": "markdown",
   "id": "d8da4000-c6c9-44eb-81e2-28d97273964d",
   "metadata": {},
   "source": [
    "* Taking into consideration the imbalance in our data between customers who have churned vs. those who stayed, it is likely that the model is going to be a little biased towards predicting that customers are more likely to stay so reducing the threshold seems like a good way to address that.\n",
    "* It looks like reducing the threshold has paid off. The loss in accuracy is negligble. Precision has dropped a lot, however recall and F1 metrics have increased significantly. Since we thought that false negative predictions are very relevant for this task the gain in F1 score was worth it "
   ]
  },
  {
   "cell_type": "code",
   "execution_count": 495,
   "id": "e929f1b3-f99f-47b2-ba21-3434113aaef8",
   "metadata": {},
   "outputs": [
    {
     "data": {
      "text/html": [
       "<div>\n",
       "<style scoped>\n",
       "    .dataframe tbody tr th:only-of-type {\n",
       "        vertical-align: middle;\n",
       "    }\n",
       "\n",
       "    .dataframe tbody tr th {\n",
       "        vertical-align: top;\n",
       "    }\n",
       "\n",
       "    .dataframe thead th {\n",
       "        text-align: right;\n",
       "    }\n",
       "</style>\n",
       "<table border=\"1\" class=\"dataframe\">\n",
       "  <thead>\n",
       "    <tr style=\"text-align: right;\">\n",
       "      <th></th>\n",
       "      <th>Dependents</th>\n",
       "      <th>Tenure Months</th>\n",
       "      <th>Internet Service</th>\n",
       "      <th>Online Security</th>\n",
       "      <th>Online Backup</th>\n",
       "      <th>Device Protection</th>\n",
       "      <th>Tech Support</th>\n",
       "      <th>Contract</th>\n",
       "      <th>Monthly Charges</th>\n",
       "      <th>y_real</th>\n",
       "      <th>y_prob</th>\n",
       "      <th>y_pred</th>\n",
       "    </tr>\n",
       "    <tr>\n",
       "      <th>CustomerID</th>\n",
       "      <th></th>\n",
       "      <th></th>\n",
       "      <th></th>\n",
       "      <th></th>\n",
       "      <th></th>\n",
       "      <th></th>\n",
       "      <th></th>\n",
       "      <th></th>\n",
       "      <th></th>\n",
       "      <th></th>\n",
       "      <th></th>\n",
       "      <th></th>\n",
       "    </tr>\n",
       "  </thead>\n",
       "  <tbody>\n",
       "    <tr>\n",
       "      <th>2189-WWOEW</th>\n",
       "      <td>0</td>\n",
       "      <td>15</td>\n",
       "      <td>1</td>\n",
       "      <td>0</td>\n",
       "      <td>1</td>\n",
       "      <td>0</td>\n",
       "      <td>0</td>\n",
       "      <td>0</td>\n",
       "      <td>85.9</td>\n",
       "      <td>1</td>\n",
       "      <td>0.576822</td>\n",
       "      <td>1</td>\n",
       "    </tr>\n",
       "    <tr>\n",
       "      <th>2446-ZKVAF</th>\n",
       "      <td>0</td>\n",
       "      <td>18</td>\n",
       "      <td>2</td>\n",
       "      <td>0</td>\n",
       "      <td>1</td>\n",
       "      <td>0</td>\n",
       "      <td>0</td>\n",
       "      <td>0</td>\n",
       "      <td>56.8</td>\n",
       "      <td>0</td>\n",
       "      <td>0.292941</td>\n",
       "      <td>0</td>\n",
       "    </tr>\n",
       "    <tr>\n",
       "      <th>4986-MXSFP</th>\n",
       "      <td>0</td>\n",
       "      <td>2</td>\n",
       "      <td>0</td>\n",
       "      <td>2</td>\n",
       "      <td>2</td>\n",
       "      <td>2</td>\n",
       "      <td>2</td>\n",
       "      <td>0</td>\n",
       "      <td>20.0</td>\n",
       "      <td>0</td>\n",
       "      <td>0.201972</td>\n",
       "      <td>0</td>\n",
       "    </tr>\n",
       "    <tr>\n",
       "      <th>5868-YWPDW</th>\n",
       "      <td>0</td>\n",
       "      <td>6</td>\n",
       "      <td>1</td>\n",
       "      <td>0</td>\n",
       "      <td>1</td>\n",
       "      <td>0</td>\n",
       "      <td>0</td>\n",
       "      <td>0</td>\n",
       "      <td>84.2</td>\n",
       "      <td>1</td>\n",
       "      <td>0.638032</td>\n",
       "      <td>1</td>\n",
       "    </tr>\n",
       "    <tr>\n",
       "      <th>9412-GHEEC</th>\n",
       "      <td>0</td>\n",
       "      <td>40</td>\n",
       "      <td>1</td>\n",
       "      <td>0</td>\n",
       "      <td>0</td>\n",
       "      <td>1</td>\n",
       "      <td>1</td>\n",
       "      <td>0</td>\n",
       "      <td>104.8</td>\n",
       "      <td>1</td>\n",
       "      <td>0.414972</td>\n",
       "      <td>1</td>\n",
       "    </tr>\n",
       "  </tbody>\n",
       "</table>\n",
       "</div>"
      ],
      "text/plain": [
       "            Dependents  Tenure Months  Internet Service  Online Security  \\\n",
       "CustomerID                                                                 \n",
       "2189-WWOEW           0             15                 1                0   \n",
       "2446-ZKVAF           0             18                 2                0   \n",
       "4986-MXSFP           0              2                 0                2   \n",
       "5868-YWPDW           0              6                 1                0   \n",
       "9412-GHEEC           0             40                 1                0   \n",
       "\n",
       "            Online Backup  Device Protection  Tech Support  Contract  \\\n",
       "CustomerID                                                             \n",
       "2189-WWOEW              1                  0             0         0   \n",
       "2446-ZKVAF              1                  0             0         0   \n",
       "4986-MXSFP              2                  2             2         0   \n",
       "5868-YWPDW              1                  0             0         0   \n",
       "9412-GHEEC              0                  1             1         0   \n",
       "\n",
       "            Monthly Charges  y_real    y_prob  y_pred  \n",
       "CustomerID                                             \n",
       "2189-WWOEW             85.9       1  0.576822       1  \n",
       "2446-ZKVAF             56.8       0  0.292941       0  \n",
       "4986-MXSFP             20.0       0  0.201972       0  \n",
       "5868-YWPDW             84.2       1  0.638032       1  \n",
       "9412-GHEEC            104.8       1  0.414972       1  "
      ]
     },
     "execution_count": 495,
     "metadata": {},
     "output_type": "execute_result"
    }
   ],
   "source": [
    "# now applying the same threshold on test\n",
    "test_results = X_test_fe.copy()\n",
    "\n",
    "test_results['y_real'] = y_test\n",
    "test_results['y_prob'] = best_rf.predict_proba(X_test_fe)[:,1] \n",
    "test_results['y_pred'] = (best_rf.predict_proba(X_test_fe)[:,1]>= threshold).astype(int)\n",
    "                                                                        \n",
    "test_results.head()"
   ]
  },
  {
   "cell_type": "code",
   "execution_count": 496,
   "id": "0c1e5aae-f2f2-4e8a-a777-4b289ebe3665",
   "metadata": {},
   "outputs": [
    {
     "name": "stdout",
     "output_type": "stream",
     "text": [
      "Accuracy:0.8021769995267393\n",
      "Precision:0.6253687315634219\n",
      "Recall:0.7210884353741497\n",
      "F1:0.6698262243285941\n"
     ]
    },
    {
     "data": {
      "text/plain": [
       "(0.8021769995267393,\n",
       " 0.6253687315634219,\n",
       " 0.7210884353741497,\n",
       " 0.6698262243285941)"
      ]
     },
     "execution_count": 496,
     "metadata": {},
     "output_type": "execute_result"
    }
   ],
   "source": [
    "# checking metrics once threshold is applied\n",
    "apr(test_results['y_pred'], test_results['y_real'])"
   ]
  },
  {
   "cell_type": "markdown",
   "id": "5af47743-b21f-4da8-a672-c6e98903508e",
   "metadata": {},
   "source": [
    "* Even better recall & F1 results on test compared to train with a reduced threshold\n",
    "* This will be the one that we'll use to produce our predictions to the customer"
   ]
  },
  {
   "cell_type": "markdown",
   "id": "ba5e325a-5dc5-430c-92f6-c5081951838e",
   "metadata": {
    "jp-MarkdownHeadingCollapsed": true,
    "tags": []
   },
   "source": [
    "<h2 align= \"left\" style=\"color: #163E67\">Output Files for Customer</h2>"
   ]
  },
  {
   "cell_type": "code",
   "execution_count": 571,
   "id": "b082e76d-3205-4b5a-8798-226e764beaf2",
   "metadata": {
    "tags": []
   },
   "outputs": [],
   "source": [
    "# combine train and test data frames with probablities and predictions\n",
    "final_df = pd.concat([train_results, test_results])"
   ]
  },
  {
   "cell_type": "code",
   "execution_count": 498,
   "id": "20de48a5-207c-4ccd-b2b8-f11ab50f13c4",
   "metadata": {
    "tags": []
   },
   "outputs": [
    {
     "data": {
      "text/html": [
       "<div>\n",
       "<style scoped>\n",
       "    .dataframe tbody tr th:only-of-type {\n",
       "        vertical-align: middle;\n",
       "    }\n",
       "\n",
       "    .dataframe tbody tr th {\n",
       "        vertical-align: top;\n",
       "    }\n",
       "\n",
       "    .dataframe thead th {\n",
       "        text-align: right;\n",
       "    }\n",
       "</style>\n",
       "<table border=\"1\" class=\"dataframe\">\n",
       "  <thead>\n",
       "    <tr style=\"text-align: right;\">\n",
       "      <th></th>\n",
       "      <th>Dependents</th>\n",
       "      <th>Tenure Months</th>\n",
       "      <th>Internet Service</th>\n",
       "      <th>Online Security</th>\n",
       "      <th>Online Backup</th>\n",
       "      <th>Device Protection</th>\n",
       "      <th>Tech Support</th>\n",
       "      <th>Contract</th>\n",
       "      <th>Monthly Charges</th>\n",
       "      <th>y_real</th>\n",
       "      <th>y_prob</th>\n",
       "      <th>y_pred</th>\n",
       "    </tr>\n",
       "    <tr>\n",
       "      <th>CustomerID</th>\n",
       "      <th></th>\n",
       "      <th></th>\n",
       "      <th></th>\n",
       "      <th></th>\n",
       "      <th></th>\n",
       "      <th></th>\n",
       "      <th></th>\n",
       "      <th></th>\n",
       "      <th></th>\n",
       "      <th></th>\n",
       "      <th></th>\n",
       "      <th></th>\n",
       "    </tr>\n",
       "  </thead>\n",
       "  <tbody>\n",
       "    <tr>\n",
       "      <th>9776-CLUJA</th>\n",
       "      <td>0</td>\n",
       "      <td>51</td>\n",
       "      <td>1</td>\n",
       "      <td>1</td>\n",
       "      <td>0</td>\n",
       "      <td>0</td>\n",
       "      <td>0</td>\n",
       "      <td>0</td>\n",
       "      <td>77.50</td>\n",
       "      <td>1</td>\n",
       "      <td>0.364410</td>\n",
       "      <td>0</td>\n",
       "    </tr>\n",
       "    <tr>\n",
       "      <th>3285-UCQVC</th>\n",
       "      <td>0</td>\n",
       "      <td>37</td>\n",
       "      <td>2</td>\n",
       "      <td>0</td>\n",
       "      <td>0</td>\n",
       "      <td>0</td>\n",
       "      <td>1</td>\n",
       "      <td>0</td>\n",
       "      <td>28.60</td>\n",
       "      <td>1</td>\n",
       "      <td>0.241330</td>\n",
       "      <td>0</td>\n",
       "    </tr>\n",
       "    <tr>\n",
       "      <th>2371-JUNGC</th>\n",
       "      <td>0</td>\n",
       "      <td>11</td>\n",
       "      <td>0</td>\n",
       "      <td>2</td>\n",
       "      <td>2</td>\n",
       "      <td>2</td>\n",
       "      <td>2</td>\n",
       "      <td>0</td>\n",
       "      <td>20.25</td>\n",
       "      <td>0</td>\n",
       "      <td>0.174962</td>\n",
       "      <td>0</td>\n",
       "    </tr>\n",
       "    <tr>\n",
       "      <th>1821-BUCWY</th>\n",
       "      <td>0</td>\n",
       "      <td>30</td>\n",
       "      <td>2</td>\n",
       "      <td>1</td>\n",
       "      <td>0</td>\n",
       "      <td>1</td>\n",
       "      <td>0</td>\n",
       "      <td>2</td>\n",
       "      <td>55.65</td>\n",
       "      <td>0</td>\n",
       "      <td>0.057149</td>\n",
       "      <td>0</td>\n",
       "    </tr>\n",
       "    <tr>\n",
       "      <th>9337-SRRNI</th>\n",
       "      <td>1</td>\n",
       "      <td>66</td>\n",
       "      <td>0</td>\n",
       "      <td>2</td>\n",
       "      <td>2</td>\n",
       "      <td>2</td>\n",
       "      <td>2</td>\n",
       "      <td>2</td>\n",
       "      <td>25.30</td>\n",
       "      <td>0</td>\n",
       "      <td>0.004887</td>\n",
       "      <td>0</td>\n",
       "    </tr>\n",
       "  </tbody>\n",
       "</table>\n",
       "</div>"
      ],
      "text/plain": [
       "            Dependents  Tenure Months  Internet Service  Online Security  \\\n",
       "CustomerID                                                                 \n",
       "9776-CLUJA           0             51                 1                1   \n",
       "3285-UCQVC           0             37                 2                0   \n",
       "2371-JUNGC           0             11                 0                2   \n",
       "1821-BUCWY           0             30                 2                1   \n",
       "9337-SRRNI           1             66                 0                2   \n",
       "\n",
       "            Online Backup  Device Protection  Tech Support  Contract  \\\n",
       "CustomerID                                                             \n",
       "9776-CLUJA              0                  0             0         0   \n",
       "3285-UCQVC              0                  0             1         0   \n",
       "2371-JUNGC              2                  2             2         0   \n",
       "1821-BUCWY              0                  1             0         2   \n",
       "9337-SRRNI              2                  2             2         2   \n",
       "\n",
       "            Monthly Charges  y_real    y_prob  y_pred  \n",
       "CustomerID                                             \n",
       "9776-CLUJA            77.50       1  0.364410       0  \n",
       "3285-UCQVC            28.60       1  0.241330       0  \n",
       "2371-JUNGC            20.25       0  0.174962       0  \n",
       "1821-BUCWY            55.65       0  0.057149       0  \n",
       "9337-SRRNI            25.30       0  0.004887       0  "
      ]
     },
     "execution_count": 498,
     "metadata": {},
     "output_type": "execute_result"
    }
   ],
   "source": [
    "# Check that it worked\n",
    "final_df.head()"
   ]
  },
  {
   "cell_type": "code",
   "execution_count": 499,
   "id": "33629386-6dcb-4323-bcd2-e52324585c27",
   "metadata": {
    "tags": []
   },
   "outputs": [
    {
     "data": {
      "text/plain": [
       "(7043, 12)"
      ]
     },
     "execution_count": 499,
     "metadata": {},
     "output_type": "execute_result"
    }
   ],
   "source": [
    "# Check the dimensions of the dataframe\n",
    "final_df.shape"
   ]
  },
  {
   "cell_type": "code",
   "execution_count": 501,
   "id": "d2f3bce7-d4cf-4479-916f-b251403da5b1",
   "metadata": {
    "tags": []
   },
   "outputs": [],
   "source": [
    "#Reset the index so customer ID turns from index to a column in the dataframe\n",
    "final_df = final_df.reset_index()"
   ]
  },
  {
   "cell_type": "code",
   "execution_count": 502,
   "id": "0967440c-9639-4092-9dab-81ed1cbb2f62",
   "metadata": {
    "tags": []
   },
   "outputs": [],
   "source": [
    "# Select only the customer ID and the probability of churning columns\n",
    "final_df = final_df[['CustomerID', 'y_prob']]"
   ]
  },
  {
   "cell_type": "code",
   "execution_count": 504,
   "id": "324041cd-61cb-4976-ba94-b8a0125f5e98",
   "metadata": {
    "tags": []
   },
   "outputs": [],
   "source": [
    "# Sort by probability, from highest to lowest\n",
    "final_df = final_df.sort_values(by = 'y_prob', ascending = False)"
   ]
  },
  {
   "cell_type": "code",
   "execution_count": 505,
   "id": "7a70fe44-5d26-4f40-8832-ca1ef61ef00a",
   "metadata": {
    "tags": []
   },
   "outputs": [
    {
     "data": {
      "text/html": [
       "<div>\n",
       "<style scoped>\n",
       "    .dataframe tbody tr th:only-of-type {\n",
       "        vertical-align: middle;\n",
       "    }\n",
       "\n",
       "    .dataframe tbody tr th {\n",
       "        vertical-align: top;\n",
       "    }\n",
       "\n",
       "    .dataframe thead th {\n",
       "        text-align: right;\n",
       "    }\n",
       "</style>\n",
       "<table border=\"1\" class=\"dataframe\">\n",
       "  <thead>\n",
       "    <tr style=\"text-align: right;\">\n",
       "      <th></th>\n",
       "      <th>CustomerID</th>\n",
       "      <th>y_prob</th>\n",
       "    </tr>\n",
       "  </thead>\n",
       "  <tbody>\n",
       "    <tr>\n",
       "      <th>1097</th>\n",
       "      <td>6857-VWJDT</td>\n",
       "      <td>0.745056</td>\n",
       "    </tr>\n",
       "    <tr>\n",
       "      <th>3108</th>\n",
       "      <td>5178-LMXOP</td>\n",
       "      <td>0.743574</td>\n",
       "    </tr>\n",
       "    <tr>\n",
       "      <th>566</th>\n",
       "      <td>0295-PPHDO</td>\n",
       "      <td>0.743574</td>\n",
       "    </tr>\n",
       "    <tr>\n",
       "      <th>1852</th>\n",
       "      <td>3988-RQIXO</td>\n",
       "      <td>0.742034</td>\n",
       "    </tr>\n",
       "    <tr>\n",
       "      <th>2237</th>\n",
       "      <td>6521-YYTYI</td>\n",
       "      <td>0.742034</td>\n",
       "    </tr>\n",
       "  </tbody>\n",
       "</table>\n",
       "</div>"
      ],
      "text/plain": [
       "      CustomerID    y_prob\n",
       "1097  6857-VWJDT  0.745056\n",
       "3108  5178-LMXOP  0.743574\n",
       "566   0295-PPHDO  0.743574\n",
       "1852  3988-RQIXO  0.742034\n",
       "2237  6521-YYTYI  0.742034"
      ]
     },
     "execution_count": 505,
     "metadata": {},
     "output_type": "execute_result"
    }
   ],
   "source": [
    "final_df.head()"
   ]
  },
  {
   "cell_type": "code",
   "execution_count": 506,
   "id": "0141b908-d3d8-49b4-b45a-40ebd93d2b90",
   "metadata": {
    "tags": []
   },
   "outputs": [],
   "source": [
    "# Save it into a .csv file\n",
    "final_df.to_csv('churn_rates.csv', index = False)"
   ]
  },
  {
   "cell_type": "code",
   "execution_count": 507,
   "id": "5c6a326c-d9b6-4cad-ac4f-f07fcf8408f4",
   "metadata": {
    "tags": []
   },
   "outputs": [],
   "source": [
    "# Select the 500 customers with the highest probability of churning\n",
    "top_500 = final_df.head(500)"
   ]
  },
  {
   "cell_type": "code",
   "execution_count": 508,
   "id": "e7548b18-86ad-4ae1-9f8c-3596a792dc85",
   "metadata": {
    "tags": []
   },
   "outputs": [
    {
     "data": {
      "text/plain": [
       "(500, 2)"
      ]
     },
     "execution_count": 508,
     "metadata": {},
     "output_type": "execute_result"
    }
   ],
   "source": [
    "# Check that the result has 500 rows and 2 columns\n",
    "top_500.shape"
   ]
  },
  {
   "cell_type": "code",
   "execution_count": 509,
   "id": "06726b49-9e10-4213-9359-48ca4c059693",
   "metadata": {
    "tags": []
   },
   "outputs": [
    {
     "data": {
      "text/html": [
       "<div>\n",
       "<style scoped>\n",
       "    .dataframe tbody tr th:only-of-type {\n",
       "        vertical-align: middle;\n",
       "    }\n",
       "\n",
       "    .dataframe tbody tr th {\n",
       "        vertical-align: top;\n",
       "    }\n",
       "\n",
       "    .dataframe thead th {\n",
       "        text-align: right;\n",
       "    }\n",
       "</style>\n",
       "<table border=\"1\" class=\"dataframe\">\n",
       "  <thead>\n",
       "    <tr style=\"text-align: right;\">\n",
       "      <th></th>\n",
       "      <th>CustomerID</th>\n",
       "      <th>y_prob</th>\n",
       "    </tr>\n",
       "  </thead>\n",
       "  <tbody>\n",
       "    <tr>\n",
       "      <th>4523</th>\n",
       "      <td>6229-LSCKB</td>\n",
       "      <td>0.645387</td>\n",
       "    </tr>\n",
       "    <tr>\n",
       "      <th>6228</th>\n",
       "      <td>6437-UKHMV</td>\n",
       "      <td>0.645387</td>\n",
       "    </tr>\n",
       "    <tr>\n",
       "      <th>3234</th>\n",
       "      <td>0947-IDHRQ</td>\n",
       "      <td>0.645387</td>\n",
       "    </tr>\n",
       "    <tr>\n",
       "      <th>3403</th>\n",
       "      <td>2026-TGDHM</td>\n",
       "      <td>0.645387</td>\n",
       "    </tr>\n",
       "    <tr>\n",
       "      <th>5728</th>\n",
       "      <td>2446-BEGGB</td>\n",
       "      <td>0.645006</td>\n",
       "    </tr>\n",
       "  </tbody>\n",
       "</table>\n",
       "</div>"
      ],
      "text/plain": [
       "      CustomerID    y_prob\n",
       "4523  6229-LSCKB  0.645387\n",
       "6228  6437-UKHMV  0.645387\n",
       "3234  0947-IDHRQ  0.645387\n",
       "3403  2026-TGDHM  0.645387\n",
       "5728  2446-BEGGB  0.645006"
      ]
     },
     "execution_count": 509,
     "metadata": {},
     "output_type": "execute_result"
    }
   ],
   "source": [
    "# Check the last 5 entries\n",
    "top_500.tail()"
   ]
  },
  {
   "cell_type": "code",
   "execution_count": 510,
   "id": "286ab872-a660-4f20-abfb-065d71ce4ec7",
   "metadata": {
    "tags": []
   },
   "outputs": [],
   "source": [
    "# Save it into a .csv file\n",
    "top_500.to_csv('top_500.csv', index = False)"
   ]
  },
  {
   "cell_type": "code",
   "execution_count": null,
   "id": "fa444cab-06ff-4b46-9f78-d72687b0b959",
   "metadata": {},
   "outputs": [],
   "source": []
  }
 ],
 "metadata": {
  "kernelspec": {
   "display_name": "Python 3 (ipykernel)",
   "language": "python",
   "name": "python3"
  },
  "language_info": {
   "codemirror_mode": {
    "name": "ipython",
    "version": 3
   },
   "file_extension": ".py",
   "mimetype": "text/x-python",
   "name": "python",
   "nbconvert_exporter": "python",
   "pygments_lexer": "ipython3",
   "version": "3.11.7"
  }
 },
 "nbformat": 4,
 "nbformat_minor": 5
}
